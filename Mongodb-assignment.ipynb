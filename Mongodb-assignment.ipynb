{
 "cells": [
  {
   "cell_type": "markdown",
   "id": "ef8a69b4",
   "metadata": {},
   "source": [
    "# Theoretical Questions\n",
    "### 1. What are the key differences between SQL and NoSQL databases ?\n",
    "    -> SQL and NoSQL databases differ primarily in their structure, flexibility, and scalability. SQL databases are relational and use a fixed schema, organizing data into tables with rows and columns. They rely on Structured Query Language (SQL) for defining and manipulating data, making them suitable for complex queries and transactions where data integrity is essential. In contrast, NoSQL databases are non-relational and support a variety of data models, such as document, key-value, column-family, or graph. They offer a dynamic schema, allowing for flexible and rapid changes to data structures. This makes NoSQL ideal for handling large volumes of unstructured or semi-structured data. Additionally, SQL databases typically scale vertically by upgrading server resources, while NoSQL databases are designed for horizontal scaling across multiple servers, making them more suitable for distributed and high-traffic applications.\n",
    "\n",
    "### 2. What makes MongoDB a good choice for modern applications ?\n",
    "    -> MongoDB is well-suited for modern applications because it provides a flexible, schema-less document model that allows developers to store and query data in a natural, JSON-like format, making it easy to handle evolving or unstructured data. Its horizontal scalability through built-in sharding enables it to efficiently manage large volumes of data and high traffic loads. MongoDB also supports rich querying and indexing capabilities, including full-text search and geospatial queries, which help build complex, performant applications. Additionally, its strong ecosystem, easy integration with popular programming languages, and support for real-time analytics and distributed data make it ideal for agile development, rapid iteration, and cloud-native architectures common in modern software projects.\n",
    "\n",
    "### 3. Explain the concept of collections in MongoDB?\n",
    "    -> In MongoDB, a collection is a grouping of related documents, similar to a table in relational databases. Unlike tables, collections in MongoDB do not enforce a fixed schema, so documents within the same collection can have different fields and structures. Collections serve as containers for documents, which are JSON-like objects that store data. This flexible design allows for easy storage of varied and evolving data formats. Collections are created implicitly when you insert the first document, and they help organize data logically within a database, enabling efficient querying, indexing, and management of related information.\n",
    "\n",
    "### 4. How does MongoDB ensure high availability using replication?\n",
    "    -> MongoDB ensures high availability through a feature called replication, which involves maintaining multiple copies of data across different servers in a cluster known as a replica set. A replica set typically consists of one primary node that handles all write operations and multiple secondary nodes that replicate data from the primary asynchronously. If the primary node fails or becomes unavailable, the replica set automatically holds an election among the secondary nodes to select a new primary, ensuring the database remains operational without manual intervention. This automatic failover mechanism, combined with data redundancy across multiple nodes, helps MongoDB provide continuous uptime, fault tolerance, and protection against data loss, making it highly reliable for modern applications.\n",
    "\n",
    "### 5. What are the main benefits of MongoDB Atlas ?\n",
    "    -> MongoDB Atlas offers several key benefits, including fully managed cloud hosting that eliminates the need for manual database setup and maintenance, allowing developers to focus on building applications. It provides automated backups, monitoring, and security features like encryption and access controls out of the box. Atlas also supports easy scalability with just a few clicks, enabling seamless handling of growing data and traffic demands. Additionally, it offers global distribution with multi-region clusters for low-latency access and disaster recovery. Integrated tools for performance optimization and real-time analytics further enhance application reliability and efficiency, making Atlas a powerful and convenient solution for deploying MongoDB in the cloud.\n",
    "\n",
    "### 6. What is the role of indexes in MongoDB, and how do they improve performance ?\n",
    "    -> Indexes in MongoDB play a crucial role in speeding up query performance by allowing the database to quickly locate and access the data without scanning every document in a collection. They work like indexes in a book, providing a fast lookup mechanism for specific fields or combinations of fields. By creating indexes on frequently queried fields, MongoDB can efficiently filter and sort results, significantly reducing query execution time. Without indexes, queries require a full collection scan, which becomes slow and resource-intensive as data grows. Additionally, MongoDB supports various types of indexes, such as single-field, compound, text, and geospatial indexes, enabling optimized performance for diverse query patterns and application needs.\n",
    "\n",
    "### 7. Describe the stages of the MongoDB aggregation pipeline.\n",
    "    -> The MongoDB aggregation pipeline processes data through a series of **stages**, each transforming the documents as they pass through, much like a data processing pipeline. The main stages include:\n",
    "\n",
    "    1. $match — Filters documents to pass only those that meet specific criteria, similar to a query’s WHERE clause.\n",
    "    2. $group — Groups documents by a specified key and performs aggregations like sum, average, or count on grouped data.\n",
    "    3. $project — Reshapes each document by including, excluding, or adding new fields, essentially controlling which data fields appear in the output.\n",
    "    4. $sort — Orders documents based on one or more fields.\n",
    "    5. $limit — Restricts the number of documents passed to the next stage.\n",
    "    6. $skip — Skips a specified number of documents before passing the rest along.\n",
    "\n",
    "    There are many other stages like $unwind (to deconstruct arrays), $lookup (to perform joins), and $addFields (to add new fields), all allowing flexible and powerful data transformation and analysis within the database. The pipeline processes documents sequentially through these stages to produce aggregated results efficiently.\n",
    "\n",
    "### 8. What is sharding in MongoDB? How does it differ from replication?\n",
    "    -> **Sharding** in MongoDB is a method of **horizontal scaling** where data is distributed across multiple servers or shards, allowing the database to handle large datasets and high throughput by splitting the data into smaller, more manageable pieces. Each shard holds a subset of the data, and a special component called the **mongos** router directs queries to the appropriate shard(s) based on the shard key. This enables MongoDB to scale out by adding more servers as data grows.\n",
    "\n",
    "### 9. What is PyMongo, and why is it used ?\n",
    "    -> PyMongo is the official Python driver for MongoDB, providing a way for Python applications to interact with MongoDB databases. It allows developers to connect to a MongoDB server, perform database operations like inserting, querying, updating, and deleting documents, as well as managing indexes and running aggregation pipelines—all using Python code. PyMongo is widely used because it offers a simple and efficient interface to work with MongoDB’s flexible document model, making it easy to integrate MongoDB into Python-based projects such as web applications, data analysis, and automation scripts.\n",
    "\n",
    "### 10. What are the ACID properties in the context of MongoDB transactions?\n",
    "    -> MongoDB supports ACID (Atomicity, Consistency, Isolation, Durability) properties within multi-document transactions starting from version 4.0. This means that a transaction either fully completes or fully rolls back (Atomicity), keeps data consistent with rules (Consistency), isolates operations from others until committed (Isolation), and ensures changes persist even after crashes (Durability).\n",
    "\n",
    "### 11. What is the purpose of MongoDB’s explain() function?\n",
    "    -> The explain() function provides detailed information on how MongoDB executes a query or aggregation, including which indexes are used, query plans, and execution statistics. It helps optimize query performance by revealing bottlenecks.\n",
    "\n",
    "### 12. How does MongoDB handle schema validation?\n",
    "    -> MongoDB allows optional schema validation rules at the collection level using JSON Schema. This lets you enforce constraints on document structure, types, and required fields, while still retaining flexibility.\n",
    "\n",
    "### 13. What is the difference between a primary and a secondary node in a replica set?\n",
    "    -> The primary node receives all write operations and replicates data to secondary nodes, which maintain copies of the primary’s data and can serve read queries (depending on read preferences). If the primary fails, a secondary is elected as the new primary.\n",
    "\n",
    "### 14. What security mechanisms does MongoDB provide for data protection?\n",
    "    -> MongoDB offers authentication, role-based access control (RBAC), encryption at rest and in transit (TLS/SSL), auditing, IP whitelisting, and integration with LDAP and Kerberos for secure access.\n",
    "\n",
    "### 15. Explain the concept of embedded documents and when they should be used.\n",
    "    -> Embedded documents store related data within a single document as nested objects. Use them when related data is accessed together frequently, enabling faster reads and fewer joins.\n",
    "\n",
    "### 16. What is the purpose of MongoDB’s $lookup stage in aggregation?\n",
    "    -> $lookup performs a left outer join between collections, allowing you to combine data from different \n",
    "collections within the aggregation pipeline.\n",
    "\n",
    "### 17. What are some common use cases for MongoDB?\n",
    "    -> Use cases include content management, real-time analytics, IoT applications, catalogs, mobile apps, social networks, and applications needing flexible schemas or horizontal scaling.\n",
    "\n",
    "### 18. What are the advantages of using MongoDB for horizontal scaling?\n",
    "    -> MongoDB’s sharding enables data distribution across multiple servers, allowing it to handle large datasets and high throughput by adding nodes seamlessly, supporting growth without downtime.\n",
    "\n",
    "### 19. How do MongoDB transactions differ from SQL transactions?\n",
    "    -> MongoDB introduced multi-document ACID transactions later and supports distributed transactions across shards. SQL databases traditionally have mature transaction support. MongoDB transactions are designed for flexibility and scalability in distributed environments.\n",
    "\n",
    "### 20. What are the main differences between capped collections and regular collections?\n",
    "    -> Capped collections are fixed-size, high-performance collections that maintain insertion order and automatically overwrite oldest entries when full. Regular collections have no size limit and allow flexible CRUD operations.\n",
    "\n",
    "### 21. What is the purpose of the $match stage in MongoDB’s aggregation pipeline?\n",
    "    -> $match filters documents early in the pipeline to pass only those matching specified criteria, improving efficiency by reducing subsequent workload.\n",
    "\n",
    "### 22. How can you secure access to a MongoDB database?\n",
    "    -> Secure access by enabling authentication, using strong passwords, configuring role-based access control, encrypting data in transit and at rest, limiting network exposure with firewalls and IP whitelisting, and auditing access.\n",
    "\n",
    "### 23. What is MongoDB’s WiredTiger storage engine, and why is it important?\n",
    "    -> WiredTiger is MongoDB’s default storage engine, providing document-level concurrency, compression, and better performance. It supports transactions and efficient use of system resources, improving overall database efficiency."
   ]
  },
  {
   "cell_type": "markdown",
   "id": "013633df",
   "metadata": {},
   "source": [
    "# Practical Questions"
   ]
  },
  {
   "cell_type": "code",
   "execution_count": null,
   "id": "9ea2dbde",
   "metadata": {},
   "outputs": [],
   "source": [
    "from pymongo import MongoClient\n",
    "import json\n",
    "import pprint"
   ]
  },
  {
   "cell_type": "code",
   "execution_count": null,
   "id": "2d60f3e4",
   "metadata": {},
   "outputs": [
    {
     "name": "stdout",
     "output_type": "stream",
     "text": [
      "Data inserted into MongoDB successfully!\n"
     ]
    }
   ],
   "source": [
    "# 1. Write a Python script to load the Superstore dataset from a CSV file into MongoDB.\n",
    "client = MongoClient('mongodb://localhost:27017/')  \n",
    "db = client['SuperstoreDB']                       \n",
    "collection = db['SalesData']\n",
    "\n",
    "data_dict = df.to_dict(orient='records')\n",
    "collection.insert_many(data_dict)  \n",
    "\n",
    "\n",
    "print(\"Data inserted into MongoDB successfully!\")"
   ]
  },
  {
   "cell_type": "code",
   "execution_count": null,
   "id": "f0cb06a0",
   "metadata": {},
   "outputs": [],
   "source": [
    "# 2. Retrieve and print all documents from the Orders collection.\n",
    "from pymongo import MongoClient\n",
    "import pprint\n",
    "\n",
    "all_orders = collection.find()\n",
    "\n",
    "\n",
    "for order in all_orders:\n",
    "    pprint.pprint(order)"
   ]
  },
  {
   "cell_type": "code",
   "execution_count": null,
   "id": "ef2f4058",
   "metadata": {},
   "outputs": [
    {
     "name": "stdout",
     "output_type": "stream",
     "text": [
      "Total documents in the collection: 9994\n"
     ]
    }
   ],
   "source": [
    "# 3. Count and display the total number of documents in the Orders collection.\n",
    "total_documents = collection.count_documents({})\n",
    "\n",
    "# 3. Print the count\n",
    "print(f\"Total documents in the collection: {total_documents}\")"
   ]
  },
  {
   "cell_type": "code",
   "execution_count": null,
   "id": "d560f64f",
   "metadata": {},
   "outputs": [
    {
     "name": "stdout",
     "output_type": "stream",
     "text": [
      "      Row ID        Order ID Order Date  Ship Date       Ship Mode  \\\n",
      "2          3  CA-2016-138688  6/12/2016  6/16/2016    Second Class   \n",
      "5          6  CA-2014-115812   6/9/2014  6/14/2014  Standard Class   \n",
      "6          7  CA-2014-115812   6/9/2014  6/14/2014  Standard Class   \n",
      "7          8  CA-2014-115812   6/9/2014  6/14/2014  Standard Class   \n",
      "8          9  CA-2014-115812   6/9/2014  6/14/2014  Standard Class   \n",
      "...      ...             ...        ...        ...             ...   \n",
      "9986    9987  CA-2016-125794  9/29/2016  10/3/2016  Standard Class   \n",
      "9990    9991  CA-2017-121258  2/26/2017   3/3/2017  Standard Class   \n",
      "9991    9992  CA-2017-121258  2/26/2017   3/3/2017  Standard Class   \n",
      "9992    9993  CA-2017-121258  2/26/2017   3/3/2017  Standard Class   \n",
      "9993    9994  CA-2017-119914   5/4/2017   5/9/2017    Second Class   \n",
      "\n",
      "     Customer ID    Customer Name    Segment        Country         City  ...  \\\n",
      "2       DV-13045  Darrin Van Huff  Corporate  United States  Los Angeles  ...   \n",
      "5       BH-11710  Brosina Hoffman   Consumer  United States  Los Angeles  ...   \n",
      "6       BH-11710  Brosina Hoffman   Consumer  United States  Los Angeles  ...   \n",
      "7       BH-11710  Brosina Hoffman   Consumer  United States  Los Angeles  ...   \n",
      "8       BH-11710  Brosina Hoffman   Consumer  United States  Los Angeles  ...   \n",
      "...          ...              ...        ...            ...          ...  ...   \n",
      "9986    ML-17410     Maris LaWare   Consumer  United States  Los Angeles  ...   \n",
      "9990    DB-13060      Dave Brooks   Consumer  United States   Costa Mesa  ...   \n",
      "9991    DB-13060      Dave Brooks   Consumer  United States   Costa Mesa  ...   \n",
      "9992    DB-13060      Dave Brooks   Consumer  United States   Costa Mesa  ...   \n",
      "9993    CC-12220     Chris Cortes   Consumer  United States  Westminster  ...   \n",
      "\n",
      "     Postal Code  Region       Product ID         Category Sub-Category  \\\n",
      "2          90036    West  OFF-LA-10000240  Office Supplies       Labels   \n",
      "5          90032    West  FUR-FU-10001487        Furniture  Furnishings   \n",
      "6          90032    West  OFF-AR-10002833  Office Supplies          Art   \n",
      "7          90032    West  TEC-PH-10002275       Technology       Phones   \n",
      "8          90032    West  OFF-BI-10003910  Office Supplies      Binders   \n",
      "...          ...     ...              ...              ...          ...   \n",
      "9986       90008    West  TEC-AC-10003399       Technology  Accessories   \n",
      "9990       92627    West  FUR-FU-10000747        Furniture  Furnishings   \n",
      "9991       92627    West  TEC-PH-10003645       Technology       Phones   \n",
      "9992       92627    West  OFF-PA-10004041  Office Supplies        Paper   \n",
      "9993       92683    West  OFF-AP-10002684  Office Supplies   Appliances   \n",
      "\n",
      "                                           Product Name    Sales  Quantity  \\\n",
      "2     Self-Adhesive Address Labels for Typewriters b...   14.620         2   \n",
      "5     Eldon Expressions Wood and Plastic Desk Access...   48.860         7   \n",
      "6                                            Newell 322    7.280         4   \n",
      "7                        Mitel 5320 IP Phone VoIP phone  907.152         6   \n",
      "8     DXL Angle-View Binders with Locking Rings by S...   18.504         3   \n",
      "...                                                 ...      ...       ...   \n",
      "9986  Memorex Mini Travel Drive 64 GB USB 2.0 Flash ...   36.240         1   \n",
      "9990  Tenex B1-RE Series Chair Mats for Low Pile Car...   91.960         2   \n",
      "9991                              Aastra 57i VoIP phone  258.576         2   \n",
      "9992  It's Hot Message Books with Stickers, 2 3/4\" x 5\"   29.600         4   \n",
      "9993  Acco 7-Outlet Masterpiece Power Center, Wihtou...  243.160         2   \n",
      "\n",
      "      Discount   Profit  \n",
      "2          0.0   6.8714  \n",
      "5          0.0  14.1694  \n",
      "6          0.0   1.9656  \n",
      "7          0.2  90.7152  \n",
      "8          0.2   5.7825  \n",
      "...        ...      ...  \n",
      "9986       0.0  15.2208  \n",
      "9990       0.0  15.6332  \n",
      "9991       0.2  19.3932  \n",
      "9992       0.0  13.3200  \n",
      "9993       0.0  72.9480  \n",
      "\n",
      "[3203 rows x 21 columns]\n"
     ]
    }
   ],
   "source": [
    "# 4. Write a query to fetch all orders from the \"West\" region\n",
    "\n",
    "west_orders = collection.find({'Region': 'West'})\n",
    "\n",
    "for order in west_orders:\n",
    "    pprint.pprint(order)"
   ]
  },
  {
   "cell_type": "code",
   "execution_count": null,
   "id": "761f0ef2",
   "metadata": {},
   "outputs": [
    {
     "name": "stdout",
     "output_type": "stream",
     "text": [
      "      Row ID        Order ID  Order Date   Ship Date       Ship Mode  \\\n",
      "1          2  CA-2016-152156   11/8/2016  11/11/2016    Second Class   \n",
      "3          4  US-2015-108966  10/11/2015  10/18/2015  Standard Class   \n",
      "7          8  CA-2014-115812    6/9/2014   6/14/2014  Standard Class   \n",
      "10        11  CA-2014-115812    6/9/2014   6/14/2014  Standard Class   \n",
      "11        12  CA-2014-115812    6/9/2014   6/14/2014  Standard Class   \n",
      "...      ...             ...         ...         ...             ...   \n",
      "9931    9932  CA-2015-104948  11/13/2015  11/17/2015  Standard Class   \n",
      "9942    9943  CA-2014-143371  12/28/2014    1/3/2015  Standard Class   \n",
      "9947    9948  CA-2017-121559    6/1/2017    6/3/2017    Second Class   \n",
      "9948    9949  CA-2017-121559    6/1/2017    6/3/2017    Second Class   \n",
      "9968    9969  CA-2017-153871  12/11/2017  12/17/2017  Standard Class   \n",
      "\n",
      "     Customer ID    Customer Name    Segment        Country             City  \\\n",
      "1       CG-12520      Claire Gute   Consumer  United States        Henderson   \n",
      "3       SO-20335   Sean O'Donnell   Consumer  United States  Fort Lauderdale   \n",
      "7       BH-11710  Brosina Hoffman   Consumer  United States      Los Angeles   \n",
      "10      BH-11710  Brosina Hoffman   Consumer  United States      Los Angeles   \n",
      "11      BH-11710  Brosina Hoffman   Consumer  United States      Los Angeles   \n",
      "...          ...              ...        ...            ...              ...   \n",
      "9931    KH-16510    Keith Herrera   Consumer  United States   San Bernardino   \n",
      "9942    MD-17350    Maribeth Dona   Consumer  United States          Anaheim   \n",
      "9947    HW-14935  Helen Wasserman  Corporate  United States     Indianapolis   \n",
      "9948    HW-14935  Helen Wasserman  Corporate  United States     Indianapolis   \n",
      "9968    RB-19435  Richard Bierner   Consumer  United States       Plainfield   \n",
      "\n",
      "      ... Postal Code   Region       Product ID         Category Sub-Category  \\\n",
      "1     ...       42420    South  FUR-CH-10000454        Furniture       Chairs   \n",
      "3     ...       33311    South  FUR-TA-10000577        Furniture       Tables   \n",
      "7     ...       90032     West  TEC-PH-10002275       Technology       Phones   \n",
      "10    ...       90032     West  FUR-TA-10001539        Furniture       Tables   \n",
      "11    ...       90032     West  TEC-PH-10002033       Technology       Phones   \n",
      "...   ...         ...      ...              ...              ...          ...   \n",
      "9931  ...       92404     West  FUR-BO-10004357        Furniture    Bookcases   \n",
      "9942  ...       92804     West  OFF-ST-10001128  Office Supplies      Storage   \n",
      "9947  ...       46203  Central  FUR-CH-10003746        Furniture       Chairs   \n",
      "9948  ...       46203  Central  OFF-AP-10002945  Office Supplies   Appliances   \n",
      "9968  ...        7060     East  OFF-BI-10004600  Office Supplies      Binders   \n",
      "\n",
      "                                           Product Name      Sales  Quantity  \\\n",
      "1     Hon Deluxe Fabric Upholstered Stacking Chairs,...   731.9400         3   \n",
      "3         Bretford CR4500 Series Slim Rectangular Table   957.5775         5   \n",
      "7                        Mitel 5320 IP Phone VoIP phone   907.1520         6   \n",
      "10             Chromcraft Rectangular Conference Tables  1706.1840         9   \n",
      "11        Konftel 250 Conference phone - Charcoal black   911.4240         4   \n",
      "...                                                 ...        ...       ...   \n",
      "9931     O'Sullivan Living Dimensions 3-Shelf Bookcases   683.3320         4   \n",
      "9942        Carina Mini System Audio Rack, Model AR050B   998.8200         9   \n",
      "9947  Hon 4070 Series Pagoda Round Back Stacking Chairs  1925.8800         6   \n",
      "9948  Honeywell Enviracaire Portable HEPA Air Cleane...  2405.2000         8   \n",
      "9968          Ibico Ibimaster 300 Manual Binding System   735.9800         2   \n",
      "\n",
      "      Discount    Profit  \n",
      "1         0.00  219.5820  \n",
      "3         0.45 -383.0310  \n",
      "7         0.20   90.7152  \n",
      "10        0.20   85.3092  \n",
      "11        0.20   68.3568  \n",
      "...        ...       ...  \n",
      "9931      0.15  -40.1960  \n",
      "9942      0.00   29.9646  \n",
      "9947      0.00  539.2464  \n",
      "9948      0.00  793.7160  \n",
      "9968      0.00  331.1910  \n",
      "\n",
      "[1162 rows x 21 columns]\n"
     ]
    }
   ],
   "source": [
    "# 5. Write a query to find orders where Sales is greater than 500.\n",
    "high_sales_orders = collection.find({'Sales': {'$gt': 500}})\n",
    "\n",
    "for order in high_sales_orders:\n",
    "    pprint.pprint(order)"
   ]
  },
  {
   "cell_type": "code",
   "execution_count": null,
   "id": "23b61956",
   "metadata": {},
   "outputs": [
    {
     "name": "stdout",
     "output_type": "stream",
     "text": [
      "      Row ID        Order ID  Order Date   Ship Date       Ship Mode  \\\n",
      "6826    6827  CA-2016-118689   10/2/2016   10/9/2016  Standard Class   \n",
      "8153    8154  CA-2017-140151   3/23/2017   3/25/2017     First Class   \n",
      "4190    4191  CA-2017-166709  11/17/2017  11/22/2017  Standard Class   \n",
      "\n",
      "     Customer ID Customer Name    Segment        Country       City  ...  \\\n",
      "6826    TC-20980  Tamara Chand  Corporate  United States  Lafayette  ...   \n",
      "8153    RB-19360  Raymond Buch   Consumer  United States    Seattle  ...   \n",
      "4190    HL-15040  Hunter Lopez   Consumer  United States     Newark  ...   \n",
      "\n",
      "     Postal Code   Region       Product ID    Category Sub-Category  \\\n",
      "6826       47905  Central  TEC-CO-10004722  Technology      Copiers   \n",
      "8153       98115     West  TEC-CO-10004722  Technology      Copiers   \n",
      "4190       19711     East  TEC-CO-10004722  Technology      Copiers   \n",
      "\n",
      "                               Product Name     Sales  Quantity  Discount  \\\n",
      "6826  Canon imageCLASS 2200 Advanced Copier  17499.95         5       0.0   \n",
      "8153  Canon imageCLASS 2200 Advanced Copier  13999.96         4       0.0   \n",
      "4190  Canon imageCLASS 2200 Advanced Copier  10499.97         3       0.0   \n",
      "\n",
      "         Profit  \n",
      "6826  8399.9760  \n",
      "8153  6719.9808  \n",
      "4190  5039.9856  \n",
      "\n",
      "[3 rows x 21 columns]\n"
     ]
    }
   ],
   "source": [
    "# 6. Fetch the top 3 orders with the highest Profit.\n",
    "top_3_profit_orders = collection.find().sort('Profit', -1).limit(3)\n",
    "\n",
    "# Display results\n",
    "for order in top_3_profit_orders:\n",
    "    pprint.pprint(order)"
   ]
  },
  {
   "cell_type": "code",
   "execution_count": null,
   "id": "49e59793",
   "metadata": {},
   "outputs": [
    {
     "name": "stdout",
     "output_type": "stream",
     "text": [
      "Modifiled results:-  Ship Mode\n",
      "Standard Class    5968\n",
      "Second Class      1945\n",
      "Premium Class     1538\n",
      "Same Day           543\n",
      "Name: count, dtype: int64\n"
     ]
    }
   ],
   "source": [
    "# 7. Update all orders with Ship Mode as \"First Class\" to \"Premium Class.\"\n",
    "result = collection.update_many(\n",
    "    {'Ship Mode': 'First Class'},      # Filter\n",
    "    {'$set': {'Ship Mode': 'Premium Class'}}  # Update\n",
    ")\n",
    "\n",
    "print(f\"Modifiled results:- {result.modified_count} documents.\")"
   ]
  },
  {
   "cell_type": "code",
   "execution_count": null,
   "id": "fda39f45",
   "metadata": {},
   "outputs": [],
   "source": [
    "# 8. Delete all orders where Sales is less than 50.\n",
    "result = collection.delete_many({'Sales': {'$lt': 50}})\n",
    "\n",
    "print(f\" Deleted {result.deleted_count} documents where Sales < 50.\")"
   ]
  },
  {
   "cell_type": "code",
   "execution_count": null,
   "id": "154fdb77",
   "metadata": {},
   "outputs": [],
   "source": [
    "# 9. Use aggregation to group orders by Region and calculate total sales per region.\n",
    "pipeline = [\n",
    "    {\n",
    "        '$group': {\n",
    "            '_id': '$Region',\n",
    "            'TotalSales': {'$sum': '$Sales'}\n",
    "        }\n",
    "    },\n",
    "    {\n",
    "        '$sort': {'TotalSales': -1}  # Sort descending by total sales\n",
    "    }\n",
    "]\n",
    "\n",
    "results = collection.aggregate(pipeline)\n",
    "\n",
    "print(\"Total Sales by Region:\")\n",
    "for res in results:\n",
    "    print(f\"Region: {res['_id']}, Total Sales: {res['TotalSales']:.2f}\")"
   ]
  },
  {
   "cell_type": "code",
   "execution_count": null,
   "id": "15ee53ed",
   "metadata": {},
   "outputs": [],
   "source": [
    "# 10. Fetch all distinct values for Ship Mode from the collection.\n",
    "\n",
    "distinct_ship_modes = collection.distinct('Ship Mode')\n",
    "\n",
    "print(\"🚢 Distinct Ship Modes:\")\n",
    "for mode in distinct_ship_modes:\n",
    "    print(mode)"
   ]
  },
  {
   "cell_type": "code",
   "execution_count": null,
   "id": "f68ea1e8",
   "metadata": {},
   "outputs": [
    {
     "name": "stdout",
     "output_type": "stream",
     "text": [
      "Number of orders per Category:\n",
      "Category\n",
      "Office Supplies    6026\n",
      "Furniture          2121\n",
      "Technology         1847\n",
      "Name: count, dtype: int64\n"
     ]
    }
   ],
   "source": [
    "# 11. Count the number of orders for each category.\n",
    "\n",
    "pipeline = [\n",
    "    {\n",
    "        '$group': {\n",
    "            '_id': '$Category',\n",
    "            'OrderCount': {'$sum': 1}\n",
    "        }\n",
    "    },\n",
    "    {\n",
    "        '$sort': {'OrderCount': -1}\n",
    "    }\n",
    "]\n",
    "\n",
    "results = collection.aggregate(pipeline)\n",
    "\n",
    "print(\"Number of orders per Category:\")\n",
    "for res in results:\n",
    "    print(f\"Category: {res['_id']}, Orders: {res['OrderCount']}\")"
   ]
  },
  {
   "cell_type": "code",
   "execution_count": null,
   "id": "7a3dc493",
   "metadata": {},
   "outputs": [],
   "source": []
  }
 ],
 "metadata": {
  "kernelspec": {
   "display_name": "base",
   "language": "python",
   "name": "python3"
  },
  "language_info": {
   "codemirror_mode": {
    "name": "ipython",
    "version": 3
   },
   "file_extension": ".py",
   "mimetype": "text/x-python",
   "name": "python",
   "nbconvert_exporter": "python",
   "pygments_lexer": "ipython3",
   "version": "3.12.7"
  }
 },
 "nbformat": 4,
 "nbformat_minor": 5
}
