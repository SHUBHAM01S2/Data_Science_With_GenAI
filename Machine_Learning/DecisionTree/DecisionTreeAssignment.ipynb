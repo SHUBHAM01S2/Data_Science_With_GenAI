{
 "cells": [
  {
   "cell_type": "markdown",
   "id": "244c4dd9",
   "metadata": {},
   "source": [
    "### 1. What is a Decision Tree, and how does it work?\n",
    "    - A Decision Tree is a flowchart-like structure used for classification and regression tasks.\n",
    "    - It splits the data into subsets based on feature values, creating branches that lead to decisions or predictions.\n",
    "\n",
    "### 2. What are impurity measures in Decision Trees?\n",
    "    - Impurity measures are metrics used to evaluate the quality of a split in a Decision Tree.\n",
    "    - Common impurity measures include Gini impurity, entropy, and mean squared error (MSE).\n",
    "\n",
    "### 3. What is the mathematical formula for Gini impurity?\n",
    "    - Gini impurity is calculated as:\n",
    "    - Gini = 1 - sum(p_i^2)\n",
    "\n",
    "### 4. What is the mathematical formula for Entropy?\n",
    "    - Entropy is calculated as:\n",
    "    - Entropy = -sum(p_i * log2(p_i))\n",
    "\n",
    "### 5. What is Information Gain, and how is it used in Decision Trees?\n",
    "    - Information Gain measures the reduction in entropy or impurity after a split.\n",
    "    - It is calculated as the difference between the impurity before the split and the weighted impurity after the split.\n",
    "    - Information Gain = Impurity(before) - Weighted Impurity(after)\n",
    "    - It is used to determine the best feature to split on at each node in the tree.\n",
    "\n",
    "### 6. What is the difference between Gini Impurity and Entropy?\n",
    "    - Gini Impurity and Entropy are both measures of impurity used in Decision Trees.\n",
    "    - Gini Impurity focuses on the probability of misclassification, while Entropy measures the uncertainty in the data.\n",
    "    - Gini Impurity is generally faster to compute, while Entropy can provide more nuanced splits in some cases.\n",
    "\n",
    "### 7. What is the mathematical explanation behind Decision Trees?\n",
    "    - Decision Trees use a recursive partitioning approach to split the data into subsets.\n",
    "    - At each node, the algorithm evaluates all possible splits based on the impurity measures.\n",
    "    - The split that results in the highest Information Gain is chosen.\n",
    "    - The process continues recursively until a stopping criterion is met, such as reaching a maximum depth or having a minimum number of samples in a leaf node.\n",
    "    - The final structure of the tree consists of decision nodes (where splits occur) and leaf nodes (where predictions are made).\n",
    "\n",
    "\n",
    "### 8. What is Pre-Pruning in Decision Trees?\n",
    "    - Pre-Pruning is a technique used to prevent overfitting in Decision Trees by stopping the growth of the tree early.\n",
    "\n",
    "### 9. What is Post-Pruning in Decision Trees?\n",
    "    - Post-Pruning is a technique used to simplify a Decision Tree after it has been fully grown.\n",
    "    - It involves removing branches that do not provide significant predictive power, thus reducing the complexity of the model.\n",
    "\n",
    "### 10. What is the difference between Pre-Pruning and Post-Pruning?\n",
    "    The main difference is the timing of when pruning occurs:\n",
    "    - Pre-Pruning stops the tree from growing too large during the construction phase, while Post-Pruning simplifies the tree after it has been fully grown.\n",
    "    Pre-Pruning can lead to a simpler model from the start, while Post-Pruning may result in a more complex tree initially but simplifies it later.\n",
    "\n",
    "### 11. What is a Decision Tree Regressor?\n",
    "    - A Decision Tree Regressor is a type of Decision Tree used for regression tasks.\n",
    "    - It predicts continuous values by splitting the data based on feature values and averaging the target values in the leaf nodes.\n",
    "\n",
    "### 12. What are the advantages and disadvantages of Decision Trees?\n",
    "    Advantages:\n",
    "    - Easy to interpret and visualize.\n",
    "    - Handles both numerical and categorical data.\n",
    "    - Requires little data preprocessing (no need for feature scaling).\n",
    "    Disadvantages:\n",
    "    - Prone to overfitting, especially with deep trees.\n",
    "    - Sensitive to noisy data and outliers.\n",
    "    - Can be biased towards features with more levels (categorical variables with many categories).\n",
    "\n",
    "\n",
    "### 13. How does a Decision Tree handle missing values?\n",
    "    -  Decision Trees can handle missing values in several ways:\n",
    "    1. Ignoring missing values: The algorithm can skip instances with missing values during the split evaluation.\n",
    "    2. Imputation: Missing values can be filled in with the mean, median, or mode of the feature.\n",
    "    3. Surrogate splits: The algorithm can use alternative features to make splits when the primary feature has missing values.\n",
    "\n",
    "\n",
    "\n",
    "### 14. How does a Decision Tree handle categorical features?\n",
    "    - Decision Trees can handle categorical features by creating branches for each category.\n",
    "    - The algorithm evaluates splits based on the categories and chooses the best split that maximizes Information Gain or minimizes impurity.\n",
    "\n",
    "### 15. What are some real-world applications of Decision Trees?\n",
    "    -  Decision Trees are used in various real-world applications, including:\n",
    "    1. Customer segmentation: Classifying customers based on purchasing behavior.\n",
    "    2. Credit scoring: Assessing the creditworthiness of individuals based on financial data.\n",
    "    3. Medical diagnosis: Predicting diseases based on patient symptoms and medical history.\n",
    "    4. Fraud detection: Identifying fraudulent transactions based on patterns in transaction data.\n",
    "    5. Churn prediction: Predicting customer churn in subscription-based businesses."
   ]
  },
  {
   "cell_type": "markdown",
   "id": "bb438ee4",
   "metadata": {},
   "source": [
    "# Practical"
   ]
  },
  {
   "cell_type": "code",
   "execution_count": null,
   "id": "a1a717e4",
   "metadata": {},
   "outputs": [
    {
     "name": "stdout",
     "output_type": "stream",
     "text": [
      "Accuracy of model is: 1.0\n"
     ]
    }
   ],
   "source": [
    "# 16. Write a Python Program to train a Decision Tree Classifier on the Iris Dataset and print the model accuracy.\n",
    "\n",
    "import pandas as pd\n",
    "import numpy as np \n",
    "from sklearn.datasets import load_iris\n",
    "from sklearn.tree import DecisionTreeClassifier\n",
    "data = load_iris()\n",
    "\n",
    "X = pd.DataFrame(data.data, columns=data.feature_names)\n",
    "y = pd.Series(data.target)\n",
    "\n",
    "model = DecisionTreeClassifier()\n",
    "model.fit(X, y)\n",
    "score = model.score(X, y)\n",
    "model.fit(X,y)\n",
    "print(f\"Accuracy of model is: {score}\")"
   ]
  },
  {
   "cell_type": "code",
   "execution_count": 3,
   "id": "4ae96765",
   "metadata": {},
   "outputs": [
    {
     "name": "stdout",
     "output_type": "stream",
     "text": [
      "Feature importances using Gini Impurity:\n",
      "sepal length (cm): 0.0133\n",
      "sepal width (cm): 0.0133\n",
      "petal length (cm): 0.0507\n",
      "petal width (cm): 0.9226\n"
     ]
    }
   ],
   "source": [
    "# 17. Write a Python program to train a Decision Tree Classifier using Gini Impurity as the criterion and print the feature importances.\n",
    "model_gini = DecisionTreeClassifier(criterion='gini')\n",
    "model_gini.fit(X, y)\n",
    "feature_importances = model_gini.feature_importances_\n",
    "print(\"Feature importances using Gini Impurity:\")\n",
    "for feature, importance in zip(X.columns, feature_importances):\n",
    "    print(f\"{feature}: {importance:.4f}\")"
   ]
  },
  {
   "cell_type": "code",
   "execution_count": 4,
   "id": "90e6cd23",
   "metadata": {},
   "outputs": [
    {
     "name": "stdout",
     "output_type": "stream",
     "text": [
      "Accuracy of model using Entropy criterion is: 1.0\n"
     ]
    }
   ],
   "source": [
    "# 18. Write a Python program to train a Decision Tree Classifier using Entropy as the splitting criterion and print the model accuracy.\n",
    "model_entropy = DecisionTreeClassifier(criterion='entropy')\n",
    "model_entropy.fit(X, y)\n",
    "score_entropy = model_entropy.score(X, y)\n",
    "print(f\"Accuracy of model using Entropy criterion is: {score_entropy}\")"
   ]
  },
  {
   "cell_type": "code",
   "execution_count": 8,
   "id": "267ea3c1",
   "metadata": {},
   "outputs": [
    {
     "name": "stdout",
     "output_type": "stream",
     "text": [
      "Mean Squared Error of the Decision Tree Regressor: 0.4952\n"
     ]
    }
   ],
   "source": [
    "# 19. Write a Python program to train a Decision Tree Regressor on a housing dataset and evaluate using Mean Squared Error (MSE).\n",
    "from sklearn.datasets import fetch_california_housing\n",
    "from sklearn.tree import DecisionTreeRegressor\n",
    "from sklearn.metrics import mean_squared_error\n",
    "from sklearn.model_selection import train_test_split\n",
    "import pandas as pd\n",
    "\n",
    "# Load California Housing dataset\n",
    "data = fetch_california_housing()\n",
    "X = pd.DataFrame(data.data, columns=data.feature_names)\n",
    "y = pd.Series(data.target)\n",
    "\n",
    "# Split data into training and testing sets\n",
    "X_train, X_test, y_train, y_test = train_test_split(X, y, test_size=0.2, random_state=42)\n",
    "\n",
    "# Train Decision Tree Regressor\n",
    "regressor = DecisionTreeRegressor(random_state=42)\n",
    "regressor.fit(X_train, y_train)\n",
    "\n",
    "# Make predictions\n",
    "y_pred = regressor.predict(X_test)\n",
    "\n",
    "# Calculate Mean Squared Error\n",
    "mse = mean_squared_error(y_test, y_pred)\n",
    "print(f\"Mean Squared Error of the Decision Tree Regressor: {mse:.4f}\")\n"
   ]
  },
  {
   "cell_type": "code",
   "execution_count": null,
   "id": "10bfff2c",
   "metadata": {},
   "outputs": [
    {
     "data": {
      "text/plain": [
       "'iris_decision_tree.pdf'"
      ]
     },
     "execution_count": 16,
     "metadata": {},
     "output_type": "execute_result"
    },
    {
     "name": "stdout",
     "output_type": "stream",
     "text": [
      "Opening in existing browser session.\n"
     ]
    }
   ],
   "source": [
    "# 20. Write a Python program to train a Decision Tree Classifier and visualize the tree using graphviz*\n",
    "from sklearn.datasets import load_iris\n",
    "from sklearn.tree import DecisionTreeClassifier, export_graphviz\n",
    "from sklearn.model_selection import train_test_split\n",
    "import pandas as pd\n",
    "import graphviz\n",
    "\n",
    "# Load Iris dataset\n",
    "data = load_iris()\n",
    "X = pd.DataFrame(data.data, columns=data.feature_names)\n",
    "y = pd.Series(data.target)\n",
    "\n",
    "# Split into train/test\n",
    "X_train, X_test, y_train, y_test = train_test_split(X, y, random_state=42)\n",
    "\n",
    "# Train Decision Tree Classifier\n",
    "model_visualization = DecisionTreeClassifier(random_state=42)\n",
    "model_visualization.fit(X_train, y_train)\n",
    "\n",
    "# Visualize the Decision Tree\n",
    "dot_data = export_graphviz(\n",
    "    model_visualization,\n",
    "    out_file=None,\n",
    "    feature_names=X.columns,\n",
    "    class_names=data.target_names,\n",
    "    filled=True,\n",
    "    rounded=True,\n",
    "    special_characters=True\n",
    ")\n",
    "\n",
    "graph = graphviz.Source(dot_data)\n",
    "graph.render(\"iris_decision_tree\", format='png', cleanup=True)  \n",
    "graph.view()"
   ]
  },
  {
   "cell_type": "code",
   "execution_count": null,
   "id": "7da88052",
   "metadata": {},
   "outputs": [
    {
     "name": "stdout",
     "output_type": "stream",
     "text": [
      "Accuracy of model with max depth 3: 1.0\n",
      "Accuracy of fully grown model: 1.0\n"
     ]
    }
   ],
   "source": [
    "# 21. Write a Python program to train a Decision Tree Classifier with a maximum depth of 3 and compare its accuracy with a fully grown tree.\n",
    "model_max_depth = DecisionTreeClassifier(max_depth=3, random_state=42)\n",
    "model_max_depth.fit(X_train, y_train)\n",
    "score_max_depth = model_max_depth.score(X_test, y_test)\n",
    "model_full_tree = DecisionTreeClassifier(random_state=42)\n",
    "model_full_tree.fit(X_train, y_train)\n",
    "score_full_tree = model_full_tree.score(X_test, y_test)\n",
    "print(f\"Accuracy of model with max depth 3: {score_max_depth}\")\n",
    "print(f\"Accuracy of fully grown model: {score_full_tree}\")"
   ]
  },
  {
   "cell_type": "code",
   "execution_count": 18,
   "id": "0cf0ead5",
   "metadata": {},
   "outputs": [
    {
     "name": "stdout",
     "output_type": "stream",
     "text": [
      "Accuracy of model with min_samples_split=5: 1.0\n",
      "Accuracy of default model: 1.0\n"
     ]
    }
   ],
   "source": [
    "# 22. Write a Python program to train a Decision Tree Classifier using min_samples_split=5 and compare its accuracy with a default tree.\n",
    "model_min_samples_split = DecisionTreeClassifier(min_samples_split=5, random_state=42)\n",
    "model_min_samples_split.fit(X_train, y_train)\n",
    "score_min_samples_split = model_min_samples_split.score(X_test, y_test)\n",
    "model_default = DecisionTreeClassifier(random_state=42)\n",
    "model_default.fit(X_train, y_train)\n",
    "score_default = model_default.score(X_test, y_test)\n",
    "print(f\"Accuracy of model with min_samples_split=5: {score_min_samples_split}\")\n",
    "print(f\"Accuracy of default model: {score_default}\")"
   ]
  },
  {
   "cell_type": "code",
   "execution_count": 19,
   "id": "fb55b8f5",
   "metadata": {},
   "outputs": [
    {
     "name": "stdout",
     "output_type": "stream",
     "text": [
      "Accuracy of model with scaled features: 1.0\n",
      "Accuracy of model with unscaled features: 1.0\n"
     ]
    }
   ],
   "source": [
    "# 23. Write a Python program to apply feature scaling before training a Decision Tree Classifier and compare its accuracy with unscaled data.\n",
    "from sklearn.preprocessing import StandardScaler\n",
    "# Apply feature scaling\n",
    "scaler = StandardScaler()\n",
    "X_scaled = scaler.fit_transform(X)\n",
    "# Train Decision Tree Classifier on scaled data\n",
    "model_scaled = DecisionTreeClassifier(random_state=42)\n",
    "model_scaled.fit(X_scaled, y)\n",
    "# Calculate accuracy on scaled data\n",
    "score_scaled = model_scaled.score(X_scaled, y)\n",
    "print(f\"Accuracy of model with scaled features: {score_scaled}\")\n",
    "# Compare with unscaled data\n",
    "score_unscaled = model.score(X, y)\n",
    "print(f\"Accuracy of model with unscaled features: {score_unscaled}\")"
   ]
  },
  {
   "cell_type": "code",
   "execution_count": 20,
   "id": "d8070730",
   "metadata": {},
   "outputs": [
    {
     "name": "stdout",
     "output_type": "stream",
     "text": [
      "Accuracy of One-vs-Rest model: 1.0\n"
     ]
    }
   ],
   "source": [
    "# 24. Write a Python program to train a Decision Tree Classifier using One-vs-Rest (OvR) strategy for multiclass classification.\n",
    "from sklearn.multiclass import OneVsRestClassifier\n",
    "# Train Decision Tree Classifier using One-vs-Rest strategy\n",
    "ovr_model = OneVsRestClassifier(DecisionTreeClassifier(random_state=42))\n",
    "ovr_model.fit(X_train, y_train)\n",
    "# Calculate accuracy\n",
    "score_ovr = ovr_model.score(X_test, y_test)\n",
    "print(f\"Accuracy of One-vs-Rest model: {score_ovr}\")"
   ]
  },
  {
   "cell_type": "code",
   "execution_count": 23,
   "id": "46c0a411",
   "metadata": {},
   "outputs": [
    {
     "name": "stdout",
     "output_type": "stream",
     "text": [
      "[0.01787567 0.01787567 0.88187037 0.08237829]\n"
     ]
    }
   ],
   "source": [
    "# 25. Write a Python program to train a Decision Tree Classifier and display the feature importance scores.\n",
    "model = DecisionTreeClassifier()\n",
    "model.fit(X_train,y_train)\n",
    "print(model.feature_importances_)"
   ]
  },
  {
   "cell_type": "code",
   "execution_count": 24,
   "id": "db8fc0a9",
   "metadata": {},
   "outputs": [
    {
     "name": "stdout",
     "output_type": "stream",
     "text": [
      "Accuracy of Decision Tree with max_depth=5: 1.0\n",
      "Accuracy of unrestricted Decision Tree: 1.0\n"
     ]
    }
   ],
   "source": [
    "# 26. Write a Python program to train a Decision Tree Regressor with max_depth=5 and compare its performance with an unrestricted tree.\n",
    "\n",
    "model = DecisionTreeClassifier(max_depth=5)\n",
    "model.fit(X_train, y_train)\n",
    "score_max_depth_5 = model.score(X_test, y_test)\n",
    "model_unrestricted = DecisionTreeClassifier()\n",
    "model_unrestricted.fit(X_train, y_train)\n",
    "score_unrestricted = model_unrestricted.score(X_test, y_test)\n",
    "print(f\"Accuracy of Decision Tree with max_depth=5: {score_max_depth_5}\")\n",
    "print(f\"Accuracy of unrestricted Decision Tree: {score_unrestricted}\")"
   ]
  },
  {
   "cell_type": "code",
   "execution_count": 25,
   "id": "b5e92ed8",
   "metadata": {},
   "outputs": [
    {
     "data": {
      "image/png": "[encoded data removed]",
      "text/plain": [
       "<Figure size 640x480 with 1 Axes>"
      ]
     },
     "metadata": {},
     "output_type": "display_data"
    }
   ],
   "source": [
    "# 27. Write a Python program to train a Decision Tree Classifier, apply Cost Complexity Pruning (CCP), and visualize its effect on accuracy.\n",
    "\n",
    "model_ccp = DecisionTreeClassifier(random_state=42)\n",
    "model_ccp.fit(X_train, y_train)\n",
    "# Apply Cost Complexity Pruning\n",
    "ccp_alpha = model_ccp.cost_complexity_pruning_path(X_train, y_train)['ccp_alphas']\n",
    "# Train Decision Tree Classifier with different ccp_alpha values\n",
    "scores = []\n",
    "for alpha in ccp_alpha:\n",
    "    model_pruned = DecisionTreeClassifier(ccp_alpha=alpha, random_state=42)\n",
    "    model_pruned.fit(X_train, y_train)\n",
    "    score_pruned = model_pruned.score(X_test, y_test)\n",
    "    scores.append(score_pruned)\n",
    "# Visualize the effect of Cost Complexity Pruning on accuracy\n",
    "import matplotlib.pyplot as plt\n",
    "plt.plot(ccp_alpha, scores, marker='o')\n",
    "plt.xlabel('CCP Alpha')\n",
    "plt.ylabel('Accuracy')\n",
    "plt.title('Effect of Cost Complexity Pruning on Accuracy')\n",
    "plt.grid()\n",
    "plt.show()"
   ]
  },
  {
   "cell_type": "code",
   "execution_count": 26,
   "id": "ee908ca9",
   "metadata": {},
   "outputs": [
    {
     "name": "stdout",
     "output_type": "stream",
     "text": [
      "Precision: 1.0000\n",
      "Recall: 1.0000\n",
      "F1-Score: 1.0000\n"
     ]
    }
   ],
   "source": [
    "# 28. Write a Python program to train a Decision Tree Classifier and evaluate its performance using Precision, Recall, and F1-Score.\n",
    "from sklearn.metrics import precision_score, recall_score, f1_score\n",
    "# Make predictions\n",
    "y_pred = model.predict(X_test)\n",
    "# Calculate Precision, Recall, and F1-Score\n",
    "precision = precision_score(y_test, y_pred, average='weighted')\n",
    "recall = recall_score(y_test, y_pred, average='weighted')\n",
    "f1 = f1_score(y_test, y_pred, average='weighted')\n",
    "print(f\"Precision: {precision:.4f}\")\n",
    "print(f\"Recall: {recall:.4f}\")\n",
    "print(f\"F1-Score: {f1:.4f}\")"
   ]
  },
  {
   "cell_type": "code",
   "execution_count": 27,
   "id": "1da15bba",
   "metadata": {},
   "outputs": [
    {
     "data": {
      "image/png": "[encoded data removed]",
      "text/plain": [
       "<Figure size 800x600 with 2 Axes>"
      ]
     },
     "metadata": {},
     "output_type": "display_data"
    }
   ],
   "source": [
    "# 29. Write a Python program to train a Decision Tree Classifier and visualize the confusion matrix using seaborn.\n",
    "from sklearn.metrics import confusion_matrix\n",
    "import seaborn as sns\n",
    "# Calculate confusion matrix\n",
    "cm = confusion_matrix(y_test, y_pred)\n",
    "# Visualize confusion matrix using seaborn\n",
    "plt.figure(figsize=(8, 6))\n",
    "sns.heatmap(cm, annot=True, fmt='d', cmap='Blues', xticklabels=data.target_names, yticklabels=data.target_names)\n",
    "plt.xlabel('Predicted')\n",
    "plt.ylabel('Actual')\n",
    "plt.title('Confusion Matrix')\n",
    "plt.show()"
   ]
  },
  {
   "cell_type": "code",
   "execution_count": 28,
   "id": "8db74e95",
   "metadata": {},
   "outputs": [
    {
     "name": "stdout",
     "output_type": "stream",
     "text": [
      "Best parameters: {'max_depth': 4, 'min_samples_split': 2}\n",
      "Best cross-validation score: 0.9368\n"
     ]
    }
   ],
   "source": [
    "# 30. Write a Python program to train a Decision Tree Classifier and use GridSearchCV to find the optimal values for max_depth and min_samples_split.\n",
    "from sklearn.model_selection import GridSearchCV\n",
    "# Define the parameter grid\n",
    "param_grid = {\n",
    "    'max_depth': [None, 2, 3, 4, 5],\n",
    "    'min_samples_split': [2, 5, 10]\n",
    "}\n",
    "# Create a Decision Tree Classifier\n",
    "dt = DecisionTreeClassifier(random_state=42)\n",
    "# Perform GridSearchCV\n",
    "grid_search = GridSearchCV(dt, param_grid, cv=5, scoring='accuracy')\n",
    "grid_search.fit(X_train, y_train)\n",
    "# Get the best parameters and score\n",
    "best_params = grid_search.best_params_\n",
    "best_score = grid_search.best_score_\n",
    "print(f\"Best parameters: {best_params}\")\n",
    "print(f\"Best cross-validation score: {best_score:.4f}\")"
   ]
  }
 ],
 "metadata": {
  "kernelspec": {
   "display_name": "base",
   "language": "python",
   "name": "python3"
  },
  "language_info": {
   "codemirror_mode": {
    "name": "ipython",
    "version": 3
   },
   "file_extension": ".py",
   "mimetype": "text/x-python",
   "name": "python",
   "nbconvert_exporter": "python",
   "pygments_lexer": "ipython3",
   "version": "3.12.7"
  }
 },
 "nbformat": 4,
 "nbformat_minor": 5
}
