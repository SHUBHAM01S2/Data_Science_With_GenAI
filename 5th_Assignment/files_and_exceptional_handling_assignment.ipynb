{
 "cells": [
  {
   "cell_type": "markdown",
   "metadata": {},
   "source": [
    "### 1. What is the difference between interpreted and compiled languages?\n",
    "    - The difference b/t interpreted and compiled languages are as follows:-\n",
    "    - Interpreted languages are those language in which the code is executed line by line. for e.g (Python, Js)\n",
    "    - Compiled languages are those languages in which the code is converted into machine code before execution, making them faster but requiring compilation before running. for e.g (C,C++)\n",
    "\n",
    "### 2. What is exception handling in Python ?\n",
    "    - It is a process to handle runtime errors and prevent program crashes using try, except, finally, and else blocks. It is very useful to find the errors and bugs in runtime by breaking the code into small smaal pieces.\n",
    "\n",
    "### 3. What is the purpose of the finally block in exception handling ?\n",
    "    - The pupose if finally block in exception handling is as follows. It ensures that certain cleanup actions (e.g., closing files, releasing resources) execute regardless of whether an exception occurs.\n",
    "\n",
    "### 4. What is logging in Python ?\n",
    "    - logging is a process in python which is used to log the results in the log file if any type of errors are occured in the code or not. It uses raise to generate an exception intentionally. It allows developers to log messages at different levels (e.g., DEBUG, INFO, WARNING, ERROR, CRITICAL) and store them in files or display them in the console.\n",
    "\n",
    "### 5. What is the significance of the __del__ method in Python ?\n",
    "    - The __del__ method in Python is a destructor that is automatically called when an object is about to be destroyed. It is primarily used for cleanup operations like closing files, releasing resources, or logging object deletion.\n",
    "\n",
    "### 6. What is the difference between import and from ... import in Python ?\n",
    "    - In Python, both import and from ... import are used to include external modules, but they work differently. Imports the entire module, and you must use the module name to access its functions or attributes. and from ... imports the packages from the big module.\n",
    "\n",
    "### 7. How can you handle multiple exceptions in Python?\n",
    "    - In Python, I can handle multiple exceptions using multiple except blocks, a single except with a tuple, or using generic exception handling.\n",
    "\n",
    "### 8. What is the purpose of the with statement when handling files in Python?\n",
    "    - The with statement is used to handle files efficiently and safely by automatically closing the file when it is no longer needed, even if an error occurs.\n",
    "\n",
    "### 9. What is the difference between multithreading and multiprocessing?\n",
    "    - The difference b/t the multithreading and multiprocessing is that the multithreading runs the program by dividing it on the multiple threads of the cpu, and multiprocessing runs the program by dividing it on the multiple processors of the cpu.\n",
    "\n",
    "### 10. What are the advantages of using logging in a program?\n",
    "    - Logging is an essential feature in Python that helps in monitoring, debugging, and tracking application behavior. Advantages of using logging in a program. \n",
    "    - we can monitor what's going on the program.\n",
    "    - we can debug the code easily because it prints what's going on the code in log file.\n",
    "    - It tracks the behaviour of the application\n",
    "\n",
    "### 11. What is memory management in Python?\n",
    "    - Memory management in Python is an automatic process that efficiently allocates and deallocates memory to variables, objects, and data structures. It ensures that the program runs smoothly without memory leaks.\n",
    "\n",
    "### 12. What are the basic steps involved in exception handling in Python?\n",
    "    - Exception handling in Python ensures that a program does not crash when an error occurs. Instead, it detects, handles, and logs errors gracefully.\n",
    "    - Use try block => Wrap code that may raise an error.\n",
    "    - Use except block => Handle specific exceptions.\n",
    "    - Use a generic except block => Catch unexpected errors.\n",
    "    - Use else block => Runs if no exception occurs\n",
    "\n",
    "### 13. Why is memory management important in Python?\n",
    "    - Memory management in Python is crucial because it ensures efficient resource usage, prevents memory leaks, and optimizes program performance. that's why the memory management is important.\n",
    "\n",
    "### 14. What is the role of try and except in exception handling?\n",
    "    - In Python, try and except blocks handle runtime errors (exceptions) to prevent program crashes.\n",
    "    - try:- It wraps code that may cause an exception, and detects errors during execution of the program\n",
    "    - except:- It handles specific or general exceptions, and  prevents program crashes also allows custom error messages.\n",
    "\n",
    "### 15.  How does Python's garbage collection system work?\n",
    "    - Python uses automatic memory management with garbage collection (GC) to free up unused memory and prevent memory leaks.\n",
    "\n",
    "### 16. What is the purpose of the else block in exception handling?\n",
    "    - In Python, the else block in exception handling is used to execute code only if no exception occurs in the try block.\n",
    "\n",
    "### 17. What are the common logging levels in Python?\n",
    "    - Python’s logging module provides different logging levels to categorize messages based on their severity.\n",
    "\n",
    "### 18. What is the difference between os.fork() and multiprocessing in Python?\n",
    "    - The difference b/w os.fork() and multiprocessing in python is as follows: \n",
    "    - os.fork() (Unix-only) creates a child process by duplicating the parent, sharing memory initially.\n",
    "    - multiprocessing (cross-platform) creates independent processes with separate memory, safer and easier to use.\n",
    "\n",
    "### 19. What is the importance of closing a file in Python? \n",
    "    - Closing a file in Python frees system resources and ensures that all data is properly saved (flushed) to the file. Not closing a file can lead to data loss or resource leaks.\n",
    "\n",
    "### 20. What is the difference between file.read() and file.readline() in Python?\n",
    "    - The difference between file.read() and file.readline() in Python is as follows:-\n",
    "    - file.read() reads the all content of the file.\n",
    "    - file.readline() reads only the first line of the file.\n",
    "\n",
    "### 21. What is the logging module in Python used for?\n",
    "    - The logging module in Python is used for tracking events, debugging, and recording program execution with different severity levels (DEBUG, INFO, WARNING, ERROR, CRITICAL).\n",
    "\n",
    "### 22. What is the os module in Python used for in file handling?\n",
    "    - The os module in Python provides functions for file handling, such as creating, deleting, renaming, and managing directories.\n",
    "\n",
    "### 23. What are the challenges associated with memory management in Python?\n",
    "    - Garbage collection overhead, memory leaks (circular references), high memory usage (due to dynamic typing), and GIL limitations affecting multi-threading. Optimize using efficient data structures and memory profiling tools.\n",
    "\n",
    "### 24. How do you raise an exception manually in Python? \n",
    "    - I can raise an exception manually in python by using the raise keyword to manually trigger an exception in Python.\n",
    "    - for e.g:- raise ValueError(\"Invalid input!\")  \n",
    "\n",
    "### 25. Why is it important to use multithreading in certain applications?\n",
    "    - Multithreading improves performance and responsiveness by allowing multiple tasks to run concurrently, especially in I/O-bound operations like file handling, network requests, or UI interactions.\n"
   ]
  },
  {
   "cell_type": "markdown",
   "metadata": {},
   "source": [
    "# Practical Questions"
   ]
  },
  {
   "cell_type": "code",
   "execution_count": 2,
   "metadata": {},
   "outputs": [],
   "source": [
    "# 1. How can you open a file for writing in Python and write a string to it ?\n",
    "with open(\"file.txt\", \"w\") as file:\n",
    "    file.write(\"Hello, World!\")"
   ]
  },
  {
   "cell_type": "code",
   "execution_count": 3,
   "metadata": {},
   "outputs": [
    {
     "name": "stdout",
     "output_type": "stream",
     "text": [
      "Hello, World!\n"
     ]
    }
   ],
   "source": [
    "# 2. Write a Python program to read the contents of a file and print each line.\n",
    "with open(\"file.txt\", \"r\") as file:\n",
    "    for line in file:\n",
    "        print(line) "
   ]
  },
  {
   "cell_type": "code",
   "execution_count": 4,
   "metadata": {},
   "outputs": [
    {
     "name": "stdout",
     "output_type": "stream",
     "text": [
      "Error: File not found!\n"
     ]
    }
   ],
   "source": [
    "# 3. How would you handle a case where the file doesn't exist while trying to open it for reading ?\n",
    "try:\n",
    "    with open(\"example.txt\", \"r\") as file:\n",
    "        print(file.read())\n",
    "except FileNotFoundError:\n",
    "    print(\"Error: File not found!\")"
   ]
  },
  {
   "cell_type": "code",
   "execution_count": 6,
   "metadata": {},
   "outputs": [],
   "source": [
    "# 4. Write a Python script that reads from one file and writes its content to another file.buffer\n",
    "with open(\"file.txt\", \"r\") as file, open(\"destination.txt\", \"w\") as destination:\n",
    "    destination.write(file.read())"
   ]
  },
  {
   "cell_type": "code",
   "execution_count": 7,
   "metadata": {},
   "outputs": [
    {
     "name": "stdout",
     "output_type": "stream",
     "text": [
      "Error: Cannot divide by zero!\n"
     ]
    }
   ],
   "source": [
    "# 5. How would you catch and handle division by zero error in Python?\n",
    "try:\n",
    "    result = 10 / 0  # Division by zero\n",
    "except ZeroDivisionError:\n",
    "    print(\"Error: Cannot divide by zero!\")"
   ]
  },
  {
   "cell_type": "code",
   "execution_count": 8,
   "metadata": {},
   "outputs": [
    {
     "name": "stdout",
     "output_type": "stream",
     "text": [
      "Error logged to error.log\n"
     ]
    }
   ],
   "source": [
    "# 6. Write a Python program that logs an error message to a log file when a division by zero exception occurs.\n",
    "import logging\n",
    "\n",
    "# Configure logging to write errors to a file\n",
    "logging.basicConfig(filename=\"error.log\", level=logging.ERROR, format=\"%(asctime)s - %(levelname)s - %(message)s\")\n",
    "\n",
    "try:\n",
    "    result = 10 / 0  # Division by zero\n",
    "except ZeroDivisionError:\n",
    "    logging.error(\"Division by zero error occurred!\")\n",
    "    print(\"Error logged to error.log\")\n"
   ]
  },
  {
   "cell_type": "code",
   "execution_count": null,
   "metadata": {},
   "outputs": [],
   "source": [
    "# 7. How do you log information at different levels (INFO, ERROR, WARNING) in Python using the logging module?\n",
    "import logging\n",
    "\n",
    "logging.basicConfig(level=logging.DEBUG, format=\"%(levelname)s: %(message)s\")\n",
    "\n",
    "logging.debug(\"This is a debug message\")      # Lowest level\n",
    "logging.info(\"This is an info message\")       # General info\n",
    "logging.warning(\"This is a warning message\")  # Potential issue\n",
    "logging.error(\"This is an error message\")     # Serious issue\n",
    "logging.critical(\"This is a critical message\")# Highest level"
   ]
  },
  {
   "cell_type": "code",
   "execution_count": 10,
   "metadata": {},
   "outputs": [
    {
     "name": "stdout",
     "output_type": "stream",
     "text": [
      "Error: File not found!\n"
     ]
    }
   ],
   "source": [
    "# 8. Write a program to handle a file opening error using exception handling.\n",
    "try:\n",
    "    with open(\"file1.txt\", \"r\") as file:\n",
    "        print(file.read())\n",
    "except FileNotFoundError:\n",
    "    print(\"Error: File not found!\")"
   ]
  },
  {
   "cell_type": "code",
   "execution_count": 11,
   "metadata": {},
   "outputs": [
    {
     "name": "stdout",
     "output_type": "stream",
     "text": [
      "['Hello, World!']\n"
     ]
    }
   ],
   "source": [
    "# 9. How can you read a file line by line and store its content in a list in Python?\n",
    "with open(\"file.txt\", \"r\") as file:\n",
    "    lines = file.readlines()  \n",
    "\n",
    "print(lines)  \n"
   ]
  },
  {
   "cell_type": "code",
   "execution_count": 12,
   "metadata": {},
   "outputs": [],
   "source": [
    "# 10. How can you append data to an existing file in Python?\n",
    "with open(\"file.txt\", \"a\") as file:\n",
    "    file.write(\"\\nHi I'am Shubham Sharma and this new line added is added by me.\")  "
   ]
  },
  {
   "cell_type": "code",
   "execution_count": 13,
   "metadata": {},
   "outputs": [
    {
     "name": "stdout",
     "output_type": "stream",
     "text": [
      "Error: Key not found in dictionary!\n"
     ]
    }
   ],
   "source": [
    "# 11. Write a Python program that uses a try-except block to handle an error when attempting to access a dictionary key that doesn't exist.\n",
    "my_dict = {\"name\": \"John\", \"age\": 30}\n",
    "\n",
    "try:\n",
    "    print(my_dict[\"city\"])  # Key does not exist\n",
    "except KeyError:\n",
    "    print(\"Error: Key not found in dictionary!\")\n"
   ]
  },
  {
   "cell_type": "code",
   "execution_count": 14,
   "metadata": {},
   "outputs": [
    {
     "name": "stdout",
     "output_type": "stream",
     "text": [
      "Error: List index out of range!\n"
     ]
    }
   ],
   "source": [
    "# 12. Write a program that demonstrates using multiple except blocks to handle different types of exceptions.\n",
    "try:\n",
    "    num = int(input(\"Enter a number: \"))  # May raise ValueError\n",
    "    result = 10 / num  # May raise ZeroDivisionError\n",
    "    my_list = [1, 2, 3]\n",
    "    print(my_list[5])  # May raise IndexError\n",
    "except ValueError:\n",
    "    print(\"Error: Invalid input! Please enter a number.\")\n",
    "except ZeroDivisionError:\n",
    "    print(\"Error: Cannot divide by zero!\")\n",
    "except IndexError:\n",
    "    print(\"Error: List index out of range!\")\n"
   ]
  },
  {
   "cell_type": "code",
   "execution_count": 16,
   "metadata": {},
   "outputs": [
    {
     "name": "stdout",
     "output_type": "stream",
     "text": [
      "Hello, World!\n",
      "Hi I'am Shubham Sharma and this new line added is added by me.\n"
     ]
    }
   ],
   "source": [
    "# 13. How would you check if a file exists before attempting to read it in Python?\n",
    "import os\n",
    "\n",
    "if os.path.exists(\"file.txt\"):\n",
    "    with open(\"file.txt\", \"r\") as file:\n",
    "        print(file.read())\n",
    "else:\n",
    "    print(\"Error: File not found!\")\n"
   ]
  },
  {
   "cell_type": "code",
   "execution_count": 1,
   "metadata": {},
   "outputs": [],
   "source": [
    "# 14. Write a program that uses the logging module to log both informational and error messages.\n",
    "import logging\n",
    "\n",
    "# Configure logging\n",
    "logging.basicConfig(filename=\"app.log\", level=logging.INFO, format=\"%(asctime)s - %(levelname)s - %(message)s\")\n",
    "\n",
    "logging.info(\"Program started successfully.\")\n",
    "\n",
    "try:\n",
    "    result = 10 / 0  # This will raise a ZeroDivisionError\n",
    "except ZeroDivisionError:\n",
    "    logging.error(\"Error: Attempted division by zero!\")\n",
    "\n",
    "logging.info(\"Program execution completed.\")\n"
   ]
  },
  {
   "cell_type": "code",
   "execution_count": 2,
   "metadata": {},
   "outputs": [
    {
     "name": "stdout",
     "output_type": "stream",
     "text": [
      "Hello, World!\n",
      "Hi I'am Shubham Sharma and this new line added is added by me.\n"
     ]
    }
   ],
   "source": [
    "# 15. Write a Python program that prints the content of a file and handles the case when the file is empty.\n",
    "try:\n",
    "    with open(\"file.txt\", \"r\") as file:\n",
    "        content = file.read()  # Remove leading/trailing spaces\n",
    "        if content:\n",
    "            print(content)\n",
    "        else:\n",
    "            print(\"The file is empty.\")\n",
    "except FileNotFoundError:\n",
    "    print(\"Error: File not found!\")\n"
   ]
  },
  {
   "cell_type": "code",
   "execution_count": 4,
   "metadata": {},
   "outputs": [
    {
     "name": "stdout",
     "output_type": "stream",
     "text": [
      "ERROR: Could not find file /tmp/ipykernel_7972/2381525736.py\n"
     ]
    }
   ],
   "source": [
    "# 16. Demonstrate how to use memory profiling to check the memory usage of a small program.\n",
    "from memory_profiler import profile\n",
    "\n",
    "@profile\n",
    "def memory_usage_example():\n",
    "    nums = [i for i in range(1000000)]  # Consumes memory\n",
    "    return sum(nums)\n",
    "\n",
    "if __name__ == \"__main__\":\n",
    "    memory_usage_example()\n"
   ]
  },
  {
   "cell_type": "code",
   "execution_count": null,
   "metadata": {},
   "outputs": [
    {
     "ename": "TypeError",
     "evalue": "argument should be integer or None, not 'list'",
     "output_type": "error",
     "traceback": [
      "\u001b[0;31m---------------------------------------------------------------------------\u001b[0m",
      "\u001b[0;31mTypeError\u001b[0m                                 Traceback (most recent call last)",
      "Cell \u001b[0;32mIn[8], line 9\u001b[0m\n\u001b[1;32m      6\u001b[0m         file\u001b[38;5;241m.\u001b[39mwrite(\u001b[38;5;124mf\u001b[39m\u001b[38;5;124m\"\u001b[39m\u001b[38;5;132;01m{\u001b[39;00mnum\u001b[38;5;132;01m}\u001b[39;00m\u001b[38;5;130;01m\\n\u001b[39;00m\u001b[38;5;124m\"\u001b[39m)\n\u001b[1;32m      8\u001b[0m \u001b[38;5;28;01mwith\u001b[39;00m \u001b[38;5;28mopen\u001b[39m(\u001b[38;5;124m'\u001b[39m\u001b[38;5;124mnumbers.txt\u001b[39m\u001b[38;5;124m'\u001b[39m,\u001b[38;5;124m'\u001b[39m\u001b[38;5;124mr\u001b[39m\u001b[38;5;124m'\u001b[39m) \u001b[38;5;28;01mas\u001b[39;00m file:\n\u001b[0;32m----> 9\u001b[0m     file\u001b[38;5;241m.\u001b[39mread(numbers)\n\u001b[1;32m     11\u001b[0m \u001b[38;5;28mprint\u001b[39m(\u001b[38;5;124m\"\u001b[39m\u001b[38;5;124mNumbers written to numbers.txt successfully!\u001b[39m\u001b[38;5;124m\"\u001b[39m)\n",
      "\u001b[0;31mTypeError\u001b[0m: argument should be integer or None, not 'list'"
     ]
    }
   ],
   "source": [
    "numbers = [1, 2, 3, 4, 5]\n",
    "\n",
    "# Writing numbers to a file\n",
    "with open(\"numbers.txt\", \"w\") as file:\n",
    "    for num in numbers:\n",
    "        file.write(f\"{num}\\n\")\n",
    "\n",
    "# Reading and printing file content\n",
    "with open(\"numbers.txt\", \"r\") as file:\n",
    "    content = file.read()\n",
    "\n",
    "print(\"File content:\\n\", content)\n",
    "print(\"Numbers written to numbers.txt successfully!\")\n"
   ]
  },
  {
   "cell_type": "code",
   "execution_count": null,
   "metadata": {},
   "outputs": [],
   "source": []
  }
 ],
 "metadata": {
  "kernelspec": {
   "display_name": "base",
   "language": "python",
   "name": "python3"
  },
  "language_info": {
   "codemirror_mode": {
    "name": "ipython",
    "version": 3
   },
   "file_extension": ".py",
   "mimetype": "text/x-python",
   "name": "python",
   "nbconvert_exporter": "python",
   "pygments_lexer": "ipython3",
   "version": "3.12.7"
  }
 },
 "nbformat": 4,
 "nbformat_minor": 2
}
