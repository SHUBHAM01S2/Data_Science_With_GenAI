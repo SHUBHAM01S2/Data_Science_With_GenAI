{
 "cells": [
  {
   "cell_type": "markdown",
   "id": "ce0b705c",
   "metadata": {},
   "source": [
    "### 1. Can we use Bagging for regression problems?\n",
    "    - Yes, Bagging can be used for regression problems. In that case, models like Decision Tree Regressors are trained on different bootstrapped samples, and the final prediction is obtained by averaging the outputs\n",
    "\n",
    "### 2.  What is the difference between multiple model training and single model training?\n",
    "    - Single Model Training: One model learns from the entire dataset.\n",
    "    - Multiple Model Training: Multiple models (usually weak learners) are trained on different subsets or versions of the data and their predictions are combined for improved performance.\n",
    "\n",
    "### 3. Explain the concept of feature randomness in Random Forest.\n",
    "    - Random Forest adds randomness by selecting a random subset of features at each split in the tree. This ensures that trees are decorrelated and leads to better generalization.\n",
    "\n",
    "### 4. What is OOB (Out-of-Bag) Score?\n",
    "    - OOB Score is an internal validation score in Bagging/Random Forest. Each tree is trained on a bootstrap sample (~63% of the data), so the remaining ~37% is out-of-bag and used to test model performance.\n",
    "\n",
    "### 5. How can you measure the importance of features in a Random Forest model?\n",
    "    - Feature importance is measured by:\n",
    "    - Gini Importance ( impurity decrease across all trees).\n",
    "    - Permutation Importance ( Drop in model performance when feature values are randomly shuffled).\n",
    "\n",
    "### 6. Explain the working principle of a Bagging Classifier.\n",
    "    - Working principle of a Bagging classifier is as given:- It generate multiple bootstrap samples, Then Train a base classifier ( like a Decision Tree ) on each sample.Aggregate predictions using majority voting.\n",
    "\n",
    "### 7. How do you evaluate a Bagging Classifier's performance?\n",
    "    - For that i would like to use accuracy, precision, recall, F1-Score, or AUC-ROC on a test set or via cross-validation. Alternatively, I'll use OOB Score for internal evaluation. \n",
    "\n",
    "### 8. How does a Bagging Regressor work?\n",
    "    - It trains multiple regressors ( e.g Decision Trees ) on bootstrapped samples. Predicts the final output by averaging predictions from all models. \n",
    "\n",
    "### 9. What is the main advantage of ensemble techniques?\n",
    "    - It gives Higher Accuracy, robustness, and generalization.\n",
    "    - They reduce overfitting and variance compared to single models. \n",
    "\n",
    "### 10.  What is the main challenge of ensemble methods?\n",
    "    - The main challenges of ensemble methods are as given below:-\n",
    "    1. Higher Compational cost.\n",
    "    2. Reduced interpretability\n",
    "    3. Risk of overfitting if base models are too complex.\n",
    "\n",
    "### 11. Explain the key idea behind ensemble techniques.\n",
    "    - Combine multiple weak/strong models to create a robust and accurate composite model. Ensemble models leverage the wisdom of the crowd.\n",
    "\n",
    "### 12. What is a Random Forest Classifier?\n",
    "    - A Random Forest Classifier is an ensemble of Decision Trees built using Bagging and feature randomness. It combines their predictions using majority voting.\n",
    "\n",
    "### 13. What are the main types of ensemble techniques?\n",
    "    - Types of Ensemble Techniques as given below:- \n",
    "    1. Bagging (Bootstrap Aggregating)\n",
    "    2. Boosting (e.g, Adaboost, Gradient Boosting)\n",
    "    3. Stacking (meta-models)\n",
    "    4. Voting (Hard/Soft)\n",
    "\n",
    "### 14. What is ensemble learning in machine learning?\n",
    "    - Ensemble learning involves combining predictions from multiple models to improve accuracy, reduce variance/bias, and increase model stability.\n",
    "\n",
    "### 15. When should we avoid using ensemble methods?\n",
    "    - When interpretability is crucial.\n",
    "    - When training time or resources are limited.\n",
    "    - On very small datasets where a single model suffices.\n",
    "\n",
    "### 16. How does Bagging help in reducing overfitting?\n",
    "    - Bagging reduces overfitting by:\n",
    "    - Training on diverse subsets of data (bootstrapping).\n",
    "    - Averaging results, which smooths out noise and high variance.\n",
    "\n",
    "### 17. Why is Random Forest better than a single Decision Tree?\n",
    "    - Random Forest reduces:\n",
    "    - Overfitting by combining many trees.\n",
    "    - Variance by introducing randomness in data and features.\n",
    "    - Leads to better accuracy and generalization.\n",
    "\n",
    "### 18. What is the role of bootstrap sampling in Bagging?\n",
    "    - Bootstrap sampling allows each model to train on a random subset (with replacement), ensuring diversity among models and improving performance.\n",
    "\n",
    "### 19. What are some real-world applications of ensemble techniques?\n",
    "    - Finance: Fraud detection.\n",
    "    - Healthcare: Disease prediction.\n",
    "    - E-commerce: Recommendation systems.\n",
    "    - Marketing: Customer churn prediction.\n",
    "    - Cybersecurity: Intrusion detection.\n",
    "\n",
    "### 20. What is the difference between Bagging and Boosting?\n",
    "    - Bagging and Boosting are both ensemble learning techniques, but they differ significantly in how they build and combine models. Bagging (Bootstrap Aggregating) trains multiple models independently in parallel using different random subsets of the data (with replacement). Its main goal is to reduce variance and prevent overfitting by averaging the predictions (for regression) or using majority voting (for classification). A popular example of Bagging is the Random Forest algorithm.\n",
    "    - Boosting trains models sequentially, where each new model focuses on correcting the errors made by the previous ones. It gives more weight to misclassified instances, making the model more accurate over time. Boosting aims to reduce both bias and variance, often leading to higher predictive performance but with a greater risk of overfitting and increased training time. Examples include AdaBoost, Gradient Boosting, and XGBoost."
   ]
  },
  {
   "cell_type": "markdown",
   "id": "26f3c1e9",
   "metadata": {},
   "source": [
    "# PRACTICAL"
   ]
  },
  {
   "cell_type": "code",
   "execution_count": 1,
   "id": "1eca0c0b",
   "metadata": {},
   "outputs": [
    {
     "name": "stdout",
     "output_type": "stream",
     "text": [
      "Model accuracy: 1.00\n"
     ]
    }
   ],
   "source": [
    "# 21. Train a Bagging Classifier using Decision Trees on a sample dataset and print model accuracy.\n",
    "import numpy as np\n",
    "from sklearn.datasets import load_iris\n",
    "from sklearn.ensemble import BaggingClassifier\n",
    "from sklearn.tree import DecisionTreeClassifier\n",
    "\n",
    "# Load dataset\n",
    "iris = load_iris()\n",
    "X, y = iris.data, iris.target\n",
    "\n",
    "# Define Bagging Classifier with Decision Trees\n",
    "bagging_clf = BaggingClassifier(estimator=DecisionTreeClassifier(), n_estimators=100, random_state=42)\n",
    "\n",
    "# Train the model\n",
    "bagging_clf.fit(X, y)\n",
    "\n",
    "# Evaluate accuracy\n",
    "accuracy = bagging_clf.score(X, y)\n",
    "print(f\"Model accuracy: {accuracy:.2f}\")\n"
   ]
  },
  {
   "cell_type": "code",
   "execution_count": 2,
   "id": "06cbe03d",
   "metadata": {},
   "outputs": [
    {
     "name": "stdout",
     "output_type": "stream",
     "text": [
      "Mean Squared Error: 1.17\n"
     ]
    }
   ],
   "source": [
    "# 22. Train a Bagging Regressor using Decision Trees and evaluate using Mean Squared Error (MSE).\n",
    "from sklearn.ensemble import BaggingRegressor\n",
    "from sklearn.metrics import mean_squared_error\n",
    "from sklearn.datasets import make_regression\n",
    "from sklearn.tree import DecisionTreeRegressor\n",
    "X_reg, y_reg = make_regression(n_samples=100, n_features=1, noise=0.1, random_state=42)\n",
    "bagging_reg = BaggingRegressor(estimator=DecisionTreeRegressor(), n_estimators=100, random_state=42)\n",
    "bagging_reg.fit(X_reg, y_reg)\n",
    "y_pred = bagging_reg.predict(X_reg)\n",
    "mse = mean_squared_error(y_reg, y_pred)\n",
    "print(f\"Mean Squared Error: {mse:.2f}\")"
   ]
  },
  {
   "cell_type": "code",
   "execution_count": 3,
   "id": "39a0170e",
   "metadata": {},
   "outputs": [
    {
     "name": "stdout",
     "output_type": "stream",
     "text": [
      "Feature importances:\n",
      "Feature 0: 0.0348\n",
      "Feature 1: 0.0152\n",
      "Feature 2: 0.0680\n",
      "Feature 3: 0.0605\n",
      "Feature 4: 0.0080\n",
      "Feature 5: 0.0116\n",
      "Feature 6: 0.0669\n",
      "Feature 7: 0.1070\n",
      "Feature 8: 0.0034\n",
      "Feature 9: 0.0026\n",
      "Feature 10: 0.0143\n",
      "Feature 11: 0.0037\n",
      "Feature 12: 0.0101\n",
      "Feature 13: 0.0296\n",
      "Feature 14: 0.0047\n",
      "Feature 15: 0.0056\n",
      "Feature 16: 0.0058\n",
      "Feature 17: 0.0038\n",
      "Feature 18: 0.0035\n",
      "Feature 19: 0.0059\n",
      "Feature 20: 0.0828\n",
      "Feature 21: 0.0175\n",
      "Feature 22: 0.0808\n",
      "Feature 23: 0.1394\n",
      "Feature 24: 0.0122\n",
      "Feature 25: 0.0199\n",
      "Feature 26: 0.0373\n",
      "Feature 27: 0.1322\n",
      "Feature 28: 0.0082\n",
      "Feature 29: 0.0045\n"
     ]
    }
   ],
   "source": [
    "# 23. Train a Random Forest Classifier on the Breast Cancer dataset and print feature importance scores.\n",
    "from sklearn.datasets import load_breast_cancer\n",
    "from sklearn.ensemble import RandomForestClassifier\n",
    "cancer = load_breast_cancer()\n",
    "X_cancer, y_cancer = cancer.data, cancer.target\n",
    "rf_clf = RandomForestClassifier(n_estimators=100, random_state=42)\n",
    "rf_clf.fit(X_cancer, y_cancer)\n",
    "feature_importances = rf_clf.feature_importances_\n",
    "print(\"Feature importances:\")\n",
    "for i, score in enumerate(feature_importances):\n",
    "    print(f\"Feature {i}: {score:.4f}\")\n",
    "    "
   ]
  },
  {
   "cell_type": "code",
   "execution_count": 4,
   "id": "d5274aee",
   "metadata": {},
   "outputs": [
    {
     "name": "stdout",
     "output_type": "stream",
     "text": [
      "Random Forest MSE: 1.17\n",
      "Decision Tree MSE: 0.00\n"
     ]
    }
   ],
   "source": [
    "# 24. Train a Random Forest Regressor and compare its performance with a single Decision Tree.\n",
    "from sklearn.ensemble import RandomForestRegressor\n",
    "from sklearn.metrics import mean_squared_error\n",
    "X_reg, y_reg = make_regression(n_samples=100, n_features=1, noise=0.1, random_state=42)\n",
    "rf_reg = RandomForestRegressor(n_estimators=100, random_state=42)\n",
    "rf_reg.fit(X_reg, y_reg)\n",
    "y_pred_rf = rf_reg.predict(X_reg)\n",
    "mse_rf = mean_squared_error(y_reg, y_pred_rf)\n",
    "dt_reg = DecisionTreeRegressor(random_state=42)\n",
    "dt_reg.fit(X_reg, y_reg)\n",
    "y_pred_dt = dt_reg.predict(X_reg)\n",
    "mse_dt = mean_squared_error(y_reg, y_pred_dt)\n",
    "print(f\"Random Forest MSE: {mse_rf:.2f}\")\n",
    "print(f\"Decision Tree MSE: {mse_dt:.2f}\")"
   ]
  },
  {
   "cell_type": "code",
   "execution_count": 5,
   "id": "bdbc90d2",
   "metadata": {},
   "outputs": [
    {
     "name": "stdout",
     "output_type": "stream",
     "text": [
      "Out-of-Bag Score: 0.96\n"
     ]
    }
   ],
   "source": [
    "# 25. Compute the Out-of-Bag (OOB) Score for a Random Forest Classifier.\n",
    "from sklearn.ensemble import RandomForestClassifier\n",
    "rf_clf_oob = RandomForestClassifier(n_estimators=100, oob_score=True, random_state=42)\n",
    "rf_clf_oob.fit(X_cancer, y_cancer)\n",
    "oob_score = rf_clf_oob.oob_score_\n",
    "print(f\"Out-of-Bag Score: {oob_score:.2f}\") "
   ]
  },
  {
   "cell_type": "code",
   "execution_count": 6,
   "id": "75c018d2",
   "metadata": {},
   "outputs": [
    {
     "name": "stdout",
     "output_type": "stream",
     "text": [
      "Bagging SVM Model accuracy: 0.97\n"
     ]
    }
   ],
   "source": [
    "# 26. Train a Bagging Classifier using SVM as a base estimator and print accuracy.\n",
    "from sklearn.svm import SVC\n",
    "bagging_svc = BaggingClassifier(estimator=SVC(probability=True), n_estimators=100, random_state=42)\n",
    "bagging_svc.fit(X, y)\n",
    "accuracy_svc = bagging_svc.score(X, y)\n",
    "print(f\"Bagging SVM Model accuracy: {accuracy_svc:.2f}\")\n"
   ]
  },
  {
   "cell_type": "code",
   "execution_count": 7,
   "id": "da4c38d4",
   "metadata": {},
   "outputs": [
    {
     "name": "stdout",
     "output_type": "stream",
     "text": [
      "Random Forest with 10 trees accuracy: 1.00\n",
      "Random Forest with 50 trees accuracy: 1.00\n",
      "Random Forest with 100 trees accuracy: 1.00\n",
      "Random Forest with 200 trees accuracy: 1.00\n"
     ]
    }
   ],
   "source": [
    "# 27. Train a Random Forest Classifier with different numbers of trees and compare accuracy.\n",
    "from sklearn.ensemble import RandomForestClassifier\n",
    "n_estimators_list = [10, 50, 100, 200]\n",
    "for n in n_estimators_list:\n",
    "    rf_clf = RandomForestClassifier(n_estimators=n, random_state=42)\n",
    "    rf_clf.fit(X_cancer, y_cancer)\n",
    "    accuracy = rf_clf.score(X_cancer, y_cancer)\n",
    "    print(f\"Random Forest with {n} trees accuracy: {accuracy:.2f}\")"
   ]
  },
  {
   "cell_type": "code",
   "execution_count": 27,
   "id": "ead53b3b",
   "metadata": {},
   "outputs": [
    {
     "name": "stdout",
     "output_type": "stream",
     "text": [
      "AUC Score: 1.00\n"
     ]
    }
   ],
   "source": [
    "# 28. Train a Bagging Classifier using Logistic Regression as a base estimator and print AUC score.\n",
    "from sklearn.ensemble import BaggingClassifier\n",
    "from sklearn.linear_model import LogisticRegression\n",
    "from sklearn.datasets import load_breast_cancer\n",
    "from sklearn.model_selection import train_test_split\n",
    "from sklearn.metrics import roc_auc_score\n",
    "\n",
    "X, y = load_breast_cancer(return_X_y=True)\n",
    "\n",
    "# Train-test split\n",
    "X_train, X_test, y_train, y_test = train_test_split(X, y, test_size=0.2, random_state=42)\n",
    "\n",
    "# Define Bagging Classifier with Logistic Regression\n",
    "bagging_clf = BaggingClassifier(\n",
    "    estimator=LogisticRegression(solver='liblinear'),  # 'liblinear' works well for small datasets\n",
    "    n_estimators=100,\n",
    "    random_state=42\n",
    ")\n",
    "\n",
    "# Train the model\n",
    "bagging_clf.fit(X_train, y_train)\n",
    "\n",
    "# Predict probabilities\n",
    "y_proba = bagging_clf.predict_proba(X_test)[:, 1]\n",
    "\n",
    "# Calculate AUC Score\n",
    "auc = roc_auc_score(y_test, y_proba)\n",
    "print(f\"AUC Score: {auc:.2f}\")"
   ]
  },
  {
   "cell_type": "code",
   "execution_count": 28,
   "id": "55a1edfe",
   "metadata": {},
   "outputs": [
    {
     "name": "stdout",
     "output_type": "stream",
     "text": [
      "Feature importances:\n",
      "Feature 0: 0.0342\n",
      "Feature 1: 0.0722\n",
      "Feature 2: 0.0133\n",
      "Feature 3: 0.0430\n",
      "Feature 4: 0.1664\n",
      "Feature 5: 0.3345\n",
      "Feature 6: 0.2295\n",
      "Feature 7: 0.0314\n",
      "Feature 8: 0.0178\n",
      "Feature 9: 0.0576\n"
     ]
    }
   ],
   "source": [
    "# 29.  Train a Random Forest Regressor and analyze feature importance scores.\n",
    "from sklearn.ensemble import RandomForestRegressor\n",
    "from sklearn.datasets import make_regression\n",
    "X_reg, y_reg = make_regression(n_samples=100, n_features=10, noise=0.1, random_state=42)\n",
    "rf_reg = RandomForestRegressor(n_estimators=100, random_state=42)\n",
    "rf_reg.fit(X_reg, y_reg)\n",
    "feature_importances = rf_reg.feature_importances_\n",
    "print(\"Feature importances:\")\n",
    "for i, score in enumerate(feature_importances):\n",
    "    print(f\"Feature {i}: {score:.4f}\")"
   ]
  },
  {
   "cell_type": "code",
   "execution_count": 29,
   "id": "cd8dad77",
   "metadata": {},
   "outputs": [
    {
     "name": "stdout",
     "output_type": "stream",
     "text": [
      "Bagging Classifier accuracy: 1.00\n",
      "Random Forest Classifier accuracy: 1.00\n"
     ]
    }
   ],
   "source": [
    "# 30. Train an ensemble model using both Bagging and Random Forest and compare accuracy.\n",
    "from sklearn.ensemble import BaggingClassifier, RandomForestClassifier\n",
    "from sklearn.datasets import load_iris\n",
    "X, y = load_iris(return_X_y=True)\n",
    "bagging_clf = BaggingClassifier(estimator=DecisionTreeClassifier(), n_estimators=100, random_state=42)\n",
    "rf_clf = RandomForestClassifier(n_estimators=100, random_state=42)\n",
    "bagging_clf.fit(X, y)\n",
    "rf_clf.fit(X, y)\n",
    "bagging_accuracy = bagging_clf.score(X, y)\n",
    "rf_accuracy = rf_clf.score(X, y)\n",
    "print(f\"Bagging Classifier accuracy: {bagging_accuracy:.2f}\")\n",
    "print(f\"Random Forest Classifier accuracy: {rf_accuracy:.2f}\")"
   ]
  },
  {
   "cell_type": "code",
   "execution_count": 32,
   "id": "0e4315de",
   "metadata": {},
   "outputs": [
    {
     "name": "stdout",
     "output_type": "stream",
     "text": [
      "Best parameters: {'max_depth': None, 'min_samples_leaf': 1, 'min_samples_split': 2, 'n_estimators': 50}\n",
      "Best cross-validation score: 0.97\n"
     ]
    }
   ],
   "source": [
    "# 31. Train a Random Forest Classifier and tune hyperparameters using GridSearchCV.\n",
    "from sklearn.ensemble import RandomForestClassifier\n",
    "from sklearn.model_selection import GridSearchCV\n",
    "from sklearn.datasets import load_iris\n",
    "X, y = load_iris(return_X_y=True)\n",
    "param_grid = {\n",
    "    'n_estimators': [50, 100, 200],\n",
    "    'max_depth': [None, 10, 20],\n",
    "    'min_samples_split': [2, 5, 10],\n",
    "    'min_samples_leaf': [1, 2, 4]\n",
    "}\n",
    "grid_search = GridSearchCV(RandomForestClassifier(random_state=42), param_grid, cv=5, scoring='accuracy')\n",
    "grid_search.fit(X, y)\n",
    "best_params = grid_search.best_params_\n",
    "best_score = grid_search.best_score_\n",
    "print(f\"Best parameters: {best_params}\")\n",
    "print(f\"Best cross-validation score: {best_score:.2f}\")"
   ]
  },
  {
   "cell_type": "code",
   "execution_count": null,
   "id": "2cb45135",
   "metadata": {},
   "outputs": [],
   "source": [
    "# 32. Train a Bagging Regressor with different numbers of base estimators and compare performance.\n",
    "from sklearn.ensemble import BaggingRegressor\n",
    "from sklearn.datasets import make_regression\n",
    "from sklearn.metrics import mean_squared_error\n",
    "X_reg, y_reg = make_regression(n_samples=100, n_features=1, noise=0.1, random_state=42)\n",
    "n_estimators_list = [10, 50, 100, 200]\n",
    "for n in n_estimators_list:\n",
    "    bagging_reg = BaggingRegressor(n_estimators=n, random_state=42)\n",
    "    bagging_reg.fit(X_reg, y_reg)\n",
    "    y_pred = bagging_reg.predict(X_reg)\n",
    "    mse = mean_squared_error(y_reg, y_pred)\n",
    "    print(f\"Bagging Regressor with {n} estimators MSE: {mse:.2f}\")"
   ]
  },
  {
   "cell_type": "code",
   "execution_count": 31,
   "id": "cc6cc952",
   "metadata": {},
   "outputs": [
    {
     "name": "stdout",
     "output_type": "stream",
     "text": [
      "Confusion Matrix:\n",
      "[[50  0  0]\n",
      " [ 0 50  0]\n",
      " [ 0  0 50]]\n"
     ]
    }
   ],
   "source": [
    "# 33.  Train a Random Forest Classifier and analyze misclassified samples.\n",
    "from sklearn.ensemble import RandomForestClassifier\n",
    "from sklearn.datasets import load_iris\n",
    "from sklearn.metrics import confusion_matrix\n",
    "X, y = load_iris(return_X_y=True)\n",
    "rf_clf = RandomForestClassifier(n_estimators=100, random_state=42)\n",
    "rf_clf.fit(X, y)\n",
    "y_pred = rf_clf.predict(X)\n",
    "conf_matrix = confusion_matrix(y, y_pred)\n",
    "print(\"Confusion Matrix:\")\n",
    "print(conf_matrix)"
   ]
  },
  {
   "cell_type": "code",
   "execution_count": 33,
   "id": "3c019cd8",
   "metadata": {},
   "outputs": [
    {
     "name": "stdout",
     "output_type": "stream",
     "text": [
      "Bagging Classifier accuracy: 1.00\n",
      "Decision Tree Classifier accuracy: 1.00\n"
     ]
    }
   ],
   "source": [
    "# 34. Train a Bagging Classifier and compare its performance with a single Decision Tree Classifier.\n",
    "from sklearn.ensemble import BaggingClassifier\n",
    "from sklearn.tree import DecisionTreeClassifier\n",
    "from sklearn.datasets import load_iris\n",
    "X, y = load_iris(return_X_y=True)\n",
    "bagging_clf = BaggingClassifier(estimator=DecisionTreeClassifier(), n_estimators=100, random_state=42)\n",
    "bagging_clf.fit(X, y)\n",
    "accuracy_bagging = bagging_clf.score(X, y)\n",
    "dt_clf = DecisionTreeClassifier(random_state=42)\n",
    "dt_clf.fit(X, y)\n",
    "accuracy_dt = dt_clf.score(X, y)\n",
    "print(f\"Bagging Classifier accuracy: {accuracy_bagging:.2f}\")\n",
    "print(f\"Decision Tree Classifier accuracy: {accuracy_dt:.2f}\")"
   ]
  },
  {
   "cell_type": "code",
   "execution_count": 34,
   "id": "ddbdc30c",
   "metadata": {},
   "outputs": [
    {
     "data": {
      "image/png": "[encoded data removed]",
      "text/plain": [
       "<Figure size 640x480 with 2 Axes>"
      ]
     },
     "metadata": {},
     "output_type": "display_data"
    }
   ],
   "source": [
    "# 35. Train a Random Forest Classifier and visualize the confusion matrix.\n",
    "import matplotlib.pyplot as plt\n",
    "from sklearn.metrics import ConfusionMatrixDisplay\n",
    "from sklearn.ensemble import RandomForestClassifier\n",
    "from sklearn.datasets import load_iris\n",
    "X, y = load_iris(return_X_y=True)\n",
    "rf_clf = RandomForestClassifier(n_estimators=100, random_state=42)\n",
    "rf_clf.fit(X, y)\n",
    "y_pred = rf_clf.predict(X)\n",
    "conf_matrix = confusion_matrix(y, y_pred)\n",
    "disp = ConfusionMatrixDisplay(confusion_matrix=conf_matrix, display_labels=rf_clf.classes_)\n",
    "disp.plot(cmap=plt.cm.Blues)\n",
    "plt.title(\"Confusion Matrix\")\n",
    "plt.show()"
   ]
  },
  {
   "cell_type": "code",
   "execution_count": 35,
   "id": "510d3c0a",
   "metadata": {},
   "outputs": [
    {
     "name": "stdout",
     "output_type": "stream",
     "text": [
      "Stacking Classifier accuracy: 0.99\n"
     ]
    }
   ],
   "source": [
    "# 36. Train a Stacking Classifier using Decision Trees, SVM, and Logistic Regression, and compare accuracy.\n",
    "from sklearn.ensemble import StackingClassifier\n",
    "from sklearn.svm import SVC\n",
    "from sklearn.linear_model import LogisticRegression\n",
    "from sklearn.datasets import load_iris\n",
    "X, y = load_iris(return_X_y=True)\n",
    "estimators = [\n",
    "    ('dt', DecisionTreeClassifier(random_state=42)),\n",
    "    ('svm', SVC(probability=True, random_state=42)),\n",
    "    ('lr', LogisticRegression(solver='liblinear', random_state=42))\n",
    "]\n",
    "stacking_clf = StackingClassifier(estimators=estimators, final_estimator=LogisticRegression(solver='liblinear', random_state=42))\n",
    "stacking_clf.fit(X, y)\n",
    "accuracy_stacking = stacking_clf.score(X, y)\n",
    "print(f\"Stacking Classifier accuracy: {accuracy_stacking:.2f}\")"
   ]
  },
  {
   "cell_type": "code",
   "execution_count": 36,
   "id": "5ea050a9",
   "metadata": {},
   "outputs": [
    {
     "name": "stdout",
     "output_type": "stream",
     "text": [
      "Top 5 most important features:\n",
      "Feature 2: 0.4361\n",
      "Feature 3: 0.4361\n",
      "Feature 0: 0.1061\n",
      "Feature 1: 0.0217\n"
     ]
    }
   ],
   "source": [
    "# 37. Train a Random Forest Classifier and print the top 5 most important features.\n",
    "from sklearn.ensemble import RandomForestClassifier\n",
    "from sklearn.datasets import load_iris\n",
    "X, y = load_iris(return_X_y=True)\n",
    "rf_clf = RandomForestClassifier(n_estimators=100, random_state=42)\n",
    "rf_clf.fit(X, y)\n",
    "feature_importances = rf_clf.feature_importances_\n",
    "top_indices = np.argsort(feature_importances)[-5:][::-1]\n",
    "print(\"Top 5 most important features:\")\n",
    "for i in top_indices:\n",
    "    print(f\"Feature {i}: {feature_importances[i]:.4f}\")"
   ]
  },
  {
   "cell_type": "code",
   "execution_count": 37,
   "id": "cc7d5944",
   "metadata": {},
   "outputs": [
    {
     "name": "stdout",
     "output_type": "stream",
     "text": [
      "Precision: 1.00\n",
      "Recall: 1.00\n",
      "F1-score: 1.00\n"
     ]
    }
   ],
   "source": [
    "# 38. Train a Bagging Classifier and evaluate performance using Precision, Recall, and F1-score\n",
    "from sklearn.ensemble import BaggingClassifier\n",
    "from sklearn.metrics import precision_score, recall_score, f1_score\n",
    "from sklearn.datasets import load_iris\n",
    "X, y = load_iris(return_X_y=True)\n",
    "bagging_clf = BaggingClassifier(estimator=DecisionTreeClassifier(), n_estimators=100, random_state=42)\n",
    "bagging_clf.fit(X, y)\n",
    "y_pred = bagging_clf.predict(X)\n",
    "precision = precision_score(y, y_pred, average='weighted')\n",
    "recall = recall_score(y, y_pred, average='weighted')\n",
    "f1 = f1_score(y, y_pred, average='weighted')\n",
    "print(f\"Precision: {precision:.2f}\")\n",
    "print(f\"Recall: {recall:.2f}\")\n",
    "print(f\"F1-score: {f1:.2f}\")"
   ]
  },
  {
   "cell_type": "code",
   "execution_count": 38,
   "id": "28d7e074",
   "metadata": {},
   "outputs": [
    {
     "name": "stdout",
     "output_type": "stream",
     "text": [
      "Random Forest with max_depth=None accuracy: 1.00\n",
      "Random Forest with max_depth=5 accuracy: 1.00\n",
      "Random Forest with max_depth=10 accuracy: 1.00\n",
      "Random Forest with max_depth=15 accuracy: 1.00\n"
     ]
    }
   ],
   "source": [
    "# 39. Train a Random Forest Classifier and analyze the effect of max_depth on accuracy.\n",
    "from sklearn.ensemble import RandomForestClassifier\n",
    "from sklearn.datasets import load_iris\n",
    "X, y = load_iris(return_X_y=True)\n",
    "max_depths = [None, 5, 10, 15]\n",
    "for max_depth in max_depths:\n",
    "    rf_clf = RandomForestClassifier(n_estimators=100, max_depth=max_depth, random_state=42)\n",
    "    rf_clf.fit(X, y)\n",
    "    accuracy = rf_clf.score(X, y)\n",
    "    print(f\"Random Forest with max_depth={max_depth} accuracy: {accuracy:.2f}\")"
   ]
  },
  {
   "cell_type": "code",
   "execution_count": 39,
   "id": "545f2c14",
   "metadata": {},
   "outputs": [
    {
     "name": "stdout",
     "output_type": "stream",
     "text": [
      "Bagging Regressor with Decision Tree MSE: 1.17\n",
      "Bagging Regressor with KNeighbors MSE: 9.71\n"
     ]
    }
   ],
   "source": [
    "# 40.  Train a Bagging Regressor using different base estimators (DecisionTree and KNeighbors) and compare performance.\n",
    "from sklearn.ensemble import BaggingRegressor\n",
    "from sklearn.tree import DecisionTreeRegressor\n",
    "from sklearn.neighbors import KNeighborsRegressor\n",
    "from sklearn.datasets import make_regression\n",
    "X_reg, y_reg = make_regression(n_samples=100, n_features=1, noise=0.1, random_state=42)\n",
    "# Bagging with Decision Tree\n",
    "bagging_dt = BaggingRegressor(estimator=DecisionTreeRegressor(), n_estimators=100, random_state=42)\n",
    "bagging_dt.fit(X_reg, y_reg)\n",
    "y_pred_dt = bagging_dt.predict(X_reg)\n",
    "mse_dt = mean_squared_error(y_reg, y_pred_dt)\n",
    "# Bagging with KNeighbors\n",
    "bagging_knn = BaggingRegressor(estimator=KNeighborsRegressor(), n_estimators=100, random_state=42)\n",
    "bagging_knn.fit(X_reg, y_reg)\n",
    "y_pred_knn = bagging_knn.predict(X_reg)\n",
    "mse_knn = mean_squared_error(y_reg, y_pred_knn)\n",
    "print(f\"Bagging Regressor with Decision Tree MSE: {mse_dt:.2f}\")\n",
    "print(f\"Bagging Regressor with KNeighbors MSE: {mse_knn:.2f}\")"
   ]
  },
  {
   "cell_type": "code",
   "execution_count": 44,
   "id": "20201386",
   "metadata": {},
   "outputs": [
    {
     "name": "stdout",
     "output_type": "stream",
     "text": [
      "ROC-AUC Score (OVR): 1.00\n"
     ]
    }
   ],
   "source": [
    "# 41. Train a Random Forest Classifier and evaluate its performance using ROC-AUC Score.\n",
    "from sklearn.ensemble import RandomForestClassifier\n",
    "from sklearn.datasets import load_iris\n",
    "from sklearn.metrics import roc_auc_score\n",
    "\n",
    "X, y = load_iris(return_X_y=True)\n",
    "\n",
    "\n",
    "rf_clf = RandomForestClassifier(n_estimators=100, random_state=42)\n",
    "\n",
    "rf_clf.fit(X, y)\n",
    "y_proba = rf_clf.predict_proba(X)\n",
    "\n",
    "roc_auc = roc_auc_score(y, y_proba, multi_class='ovr')\n",
    "print(f\"ROC-AUC Score (OVR): {roc_auc:.2f}\")"
   ]
  },
  {
   "cell_type": "code",
   "execution_count": 41,
   "id": "daa66788",
   "metadata": {},
   "outputs": [
    {
     "name": "stdout",
     "output_type": "stream",
     "text": [
      "Bagging Classifier Cross-Validation Scores: [0.96666667 0.96666667 0.9        0.96666667 1.        ]\n"
     ]
    }
   ],
   "source": [
    "# 42. Train a Bagging Classifier and evaluate its performance using cross-validation.\n",
    "from sklearn.ensemble import BaggingClassifier\n",
    "from sklearn.model_selection import cross_val_score\n",
    "from sklearn.datasets import load_iris\n",
    "X, y = load_iris(return_X_y=True)\n",
    "bagging_clf = BaggingClassifier(n_estimators=100, random_state=42)\n",
    "cross_val_scores = cross_val_score(bagging_clf, X, y, cv=5)\n",
    "print(f\"Bagging Classifier Cross-Validation Scores: {cross_val_scores}\")    "
   ]
  },
  {
   "cell_type": "code",
   "execution_count": 45,
   "id": "d7efdf92",
   "metadata": {},
   "outputs": [
    {
     "data": {
      "image/png": "[encoded data removed]",
      "text/plain": [
       "<Figure size 640x480 with 1 Axes>"
      ]
     },
     "metadata": {},
     "output_type": "display_data"
    }
   ],
   "source": [
    "# 43. Train a Random Forest Classifier and plot the Precision-Recall curve.\n",
    "\n",
    "from sklearn.ensemble import RandomForestClassifier\n",
    "from sklearn.datasets import load_iris\n",
    "from sklearn.metrics import precision_recall_curve\n",
    "import matplotlib.pyplot as plt\n",
    "\n",
    "# Load data\n",
    "X, y = load_iris(return_X_y=True)\n",
    "\n",
    "# Convert to binary classification: class 1 vs rest\n",
    "y_binary = (y == 1).astype(int)  # Class 1 as positive, others as negative\n",
    "\n",
    "# Train model\n",
    "rf_clf = RandomForestClassifier(n_estimators=100, random_state=42)\n",
    "rf_clf.fit(X, y_binary)\n",
    "\n",
    "# Predict probabilities for positive class (1)\n",
    "y_proba = rf_clf.predict_proba(X)[:, 1]\n",
    "\n",
    "# Precision-Recall\n",
    "precision, recall, _ = precision_recall_curve(y_binary, y_proba)\n",
    "\n",
    "# Plot\n",
    "plt.plot(recall, precision, marker='.')\n",
    "plt.xlabel('Recall')\n",
    "plt.ylabel('Precision')\n",
    "plt.title('Precision-Recall Curve (Class 1 vs Rest)')\n",
    "plt.grid(True)\n",
    "plt.show()\n"
   ]
  },
  {
   "cell_type": "code",
   "execution_count": 46,
   "id": "023267d4",
   "metadata": {},
   "outputs": [
    {
     "name": "stdout",
     "output_type": "stream",
     "text": [
      "Stacking Classifier accuracy: 0.99\n"
     ]
    }
   ],
   "source": [
    "# 44. Train a Stacking Classifier with Random Forest and Logistic Regression and compare accuracy.\n",
    "from sklearn.ensemble import StackingClassifier\n",
    "from sklearn.linear_model import LogisticRegression\n",
    "from sklearn.datasets import load_iris\n",
    "X, y = load_iris(return_X_y=True)\n",
    "estimators = [\n",
    "    ('rf', RandomForestClassifier(n_estimators=100, random_state=42)),\n",
    "    ('lr', LogisticRegression(solver='liblinear', random_state=42))\n",
    "]\n",
    "stacking_clf = StackingClassifier(estimators=estimators, final_estimator=LogisticRegression(solver='liblinear', random_state=42))\n",
    "stacking_clf.fit(X, y)\n",
    "accuracy_stacking = stacking_clf.score(X, y)\n",
    "print(f\"Stacking Classifier accuracy: {accuracy_stacking:.2f}\") "
   ]
  },
  {
   "cell_type": "code",
   "execution_count": 47,
   "id": "522e6ca0",
   "metadata": {},
   "outputs": [
    {
     "name": "stdout",
     "output_type": "stream",
     "text": [
      "Bagging Regressor with bootstrap=True MSE: 1.17\n",
      "Bagging Regressor with bootstrap=False MSE: 0.00\n"
     ]
    }
   ],
   "source": [
    "# 45. Train a Bagging Regressor with different levels of bootstrap samples and compare performance.\n",
    "from sklearn.ensemble import BaggingRegressor\n",
    "from sklearn.datasets import make_regression\n",
    "from sklearn.metrics import mean_squared_error\n",
    "X_reg, y_reg = make_regression(n_samples=100, n_features=1, noise=0.1, random_state=42)\n",
    "bootstrap_samples = [True, False]\n",
    "for bootstrap in bootstrap_samples:\n",
    "    bagging_reg = BaggingRegressor(n_estimators=100, bootstrap=bootstrap, random_state=42)\n",
    "    bagging_reg.fit(X_reg, y_reg)\n",
    "    y_pred = bagging_reg.predict(X_reg)\n",
    "    mse = mean_squared_error(y_reg, y_pred)\n",
    "    print(f\"Bagging Regressor with bootstrap={bootstrap} MSE: {mse:.2f}\")"
   ]
  }
 ],
 "metadata": {
  "kernelspec": {
   "display_name": "base",
   "language": "python",
   "name": "python3"
  },
  "language_info": {
   "codemirror_mode": {
    "name": "ipython",
    "version": 3
   },
   "file_extension": ".py",
   "mimetype": "text/x-python",
   "name": "python",
   "nbconvert_exporter": "python",
   "pygments_lexer": "ipython3",
   "version": "3.12.7"
  }
 },
 "nbformat": 4,
 "nbformat_minor": 5
}
