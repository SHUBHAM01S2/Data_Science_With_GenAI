{
 "cells": [
  {
   "cell_type": "markdown",
   "metadata": {},
   "source": [
    "### Q1 What are data structures, and why are they important ?\n",
    "    - Data structures is like a container, where we'll store the data so that it can be accessed and manipulated efficiently. Data Structures are important for storing the values and assigning the values according to the size of data so that they can be accessed and manipulated efficiently\n",
    "\n",
    "### Q2  Explain the difference between mutable and immutable data types with examples\n",
    "    - Difference b/t mutable and immutable data types with examples as given below:-\n",
    "    1. Mutable Data types: - mutable data types are those objects in which we are able to change there values after their creation. or in other words we can change there values once they are created. for e.g lists, sets etc.\n",
    "    2. Immutable Data types: - immutable data types are those onjects in which we are not able to change there values after their creation. or in other words we can't change their values once they are created. for  e.g tuples, strings etc.\n",
    "\n",
    "### Q3. What are the main differences between lists and tuples in Python ?\n",
    "    - lists are mutable in nature, it means we can change its values after its creation. lists are created using [] brackets.\n",
    "    - tuples are immutable in nature, it means we can't change its values after its creation. tuples are created using () brackets.\n",
    "\n",
    "### Q4. Describe how dictionaries store data.\n",
    "    - Dictionaries store data in the form of key value pairs. \n",
    "    for e.g dict = {\"name\":\"Shubham Sharma\"} here in this example \"name\" is key which is always unique. \"Shubham Sharma\" is the value of \"name\" key.\n",
    "### Q5. Why might you use a set instead of a list in Python ?\n",
    "    - sets plays its unique role in python as a data structures. set is created using {} brackets. we'll use set instead on list where we need to store that data in which we don't want duplicate values. on that situation the sets are used instead on lists.\n",
    "\n",
    "### Q6. What is a string in Python, and how is it different from a list ?\n",
    "    - A string is a datatype in python. which is used to store character values inside this for e,g \"Shubham Sharma\". string is immutable in nature it means we can't change its value once it is created. and list in mutable in nature, we can change the values of list. that's why string is different from list.\n",
    "\n",
    "### Q7.  How do tuples ensure data integrity in Python ?\n",
    "    - Tuples are immutable in nature, means once they are created we can't change there values. This characterstics can be leveraged for data integrity by using tuples for data that should not be modifies after creation.\n",
    "\n",
    "### Q8. What is a hash table, and how does it relate to dictionaries in Python ?\n",
    "    - A hash table is a data structure that implements an associative array, also called as dictionary or simply map. an associative array is an abstract data type that maps keys to values. because of its behaviour like key values it relates to dictionaries in python \n",
    "\n",
    "### Q9. Can lists contain different data types in Python ?\n",
    "    - Yes, lists contain different data types in python because it's heterogenous in nature.\n",
    "    for e.g, my_list = [\"shubham sharma\",1,\"S\",4.5, 4+5j, true]\n",
    "\n",
    "### Q10. Explain why strings are immutable in Python.\n",
    "    - Strings are immutable in python, means once we create the string we can't change its values later. that's why it is immutable in Python.\n",
    "\n",
    "### Q11. What advantages do dictionaries offer over lists for certain tasks ?\n",
    "    - dictionaries offer more advantages over lists for certain tasks. because lists have an ability to store data in key-value pairs which in not possible in lists. thats why it offer more advantages for certain tasks.\n",
    "\n",
    "### Q12. Describe a scenario where using a tuple would be preferable over a list ?\n",
    "    - I am using tuple in that scenario where i'm sure that we don't need to change the values later. or in simple words where values remain constant. in that scenario i'm going to use tuples instead of lists\n",
    "\n",
    "### Q13. How do sets handle duplicate values in Python ?\n",
    "    - A set is an unordered collection of unique elements. sets automatically removes the duplicate values. it will only store one occurence of each item, even it you're try to adding duplicate values.\n",
    "\n",
    "### Q14. How does the “in” keyword work differently for lists and dictionaries ?\n",
    "    - The \"in\" keyword is a membership keyword. which returns the element which you are finding that is present inside the lists and in distionaries.\n",
    "    for e.g: - ages = [10,23,19,25] if 10 in age: print('True') else: print('No) -> it will print True if 10 is present in ages which is a list of ages.\n",
    "\n",
    "### Q15. Can you modify the elements of a tuple? Explain why or why not.\n",
    "    - No we can't modify the elements of a tuple. because tuple is immutable in nature which means we can not change/modify its elements once it is created.\n",
    "\n",
    "### Q16. What is a nested dictionary, and give an example of its use case ?\n",
    "    - A nested dictionary is a dictionary inside another dictionary. It allows you to store data in a hierarchical or multi-level format, making it useful for representing complex data structures.\n",
    "    for e.g, students = {\n",
    "        {\"name\":\"Shubham Sharma\", \"age\":19},\n",
    "        {\"name\":\"Adarsh Kumar\", \"age\":21}\n",
    "    }\n",
    "    use cases:- 1. useful when data is structured in multiple levels. \n",
    "                2. Keeps related data grouped together.\n",
    "\n",
    "### Q17. Describe the time complexity of accessing elements in a dictionary.\n",
    "    - The time complexity of accessing elements in a Python dictionary is O(1) on average. It means that retrieving a value using a key is done in constant time, regardless of the size of the dictionary.\n",
    "\n",
    "### Q18. In what situations are lists preferred over dictionaries ?\n",
    "    - lists are used when we need ordered and index based access. when the data is homogeneous. when fast iteration is required. Memory optimization is required. The data structure is simple and straightforward\n",
    "\n",
    "### Q19. Why are dictionaries considered unordered, and how does that affect data retrieval ?\n",
    "    - dictionaries are considered unordered because they do not store elements in a sequential order. Instead they use a hash table internally to manage the placement of keys and values.\n",
    "    Affect data retrieval: Dictionaries are unordered due to their hash-based implementation.\n",
    "\n",
    "### Q20. Explain the difference between a list and a dictionary in terms of data retrieval.\n",
    "    - In list the data is stored in ordered way and we can directly access the element. lists provide fast iteration & better Memory Optimization.\n",
    "    - In dictionaries data is stored in unordered way because they do not store elements in a sequential order. they use a hash table internally to manage the placement of keys and values.\n"
   ]
  },
  {
   "cell_type": "markdown",
   "metadata": {},
   "source": [
    "# Practical Questions"
   ]
  },
  {
   "cell_type": "code",
   "execution_count": null,
   "metadata": {},
   "outputs": [
    {
     "name": "stdout",
     "output_type": "stream",
     "text": [
      "Shubham Sharma\n"
     ]
    }
   ],
   "source": [
    "# 1. Write a code to create a string with your name and print it.\n",
    "\n",
    "_string = \"Shubham Sharma\" # Creating string\n",
    "print(_string) # printing string"
   ]
  },
  {
   "cell_type": "code",
   "execution_count": null,
   "metadata": {},
   "outputs": [
    {
     "name": "stdout",
     "output_type": "stream",
     "text": [
      "11\n"
     ]
    }
   ],
   "source": [
    "# 2. Write a code to find the length of the string \"Hello World\".\n",
    "\n",
    "_string = \"Hello World\"\n",
    "print(len(_string)) # => len() print the length of the string"
   ]
  },
  {
   "cell_type": "code",
   "execution_count": null,
   "metadata": {},
   "outputs": [
    {
     "name": "stdout",
     "output_type": "stream",
     "text": [
      "Pyt\n"
     ]
    }
   ],
   "source": [
    "# 3. Write a code to slice the first 3 characters from the string \"Python Programming\"\n",
    "\n",
    "_string = \"Python Programming\"\n",
    "print(_string[0:3]) # Performing Slicing using index"
   ]
  },
  {
   "cell_type": "code",
   "execution_count": null,
   "metadata": {},
   "outputs": [
    {
     "name": "stdout",
     "output_type": "stream",
     "text": [
      "HELLO\n"
     ]
    }
   ],
   "source": [
    "# 4. Write a code to convert the string \"hello\" to uppercase.\n",
    "\n",
    "_string = \"hello\"\n",
    "upper_string = _string.upper()\n",
    "print(upper_string) "
   ]
  },
  {
   "cell_type": "code",
   "execution_count": null,
   "metadata": {},
   "outputs": [
    {
     "name": "stdout",
     "output_type": "stream",
     "text": [
      "Before Replacing original string is: I like apple\n",
      "\n",
      "After Replacing string is: I like orange\n"
     ]
    }
   ],
   "source": [
    "# 5. Write a code to replace the word \"apple\" with \"orange\" in the string \"I like apple\".\n",
    "\n",
    "_string = \"I like apple\"\n",
    "print(f\"Before Replacing original string is: {_string}\", end=\"\\n\\n\")\n",
    "_string = _string.replace(\"apple\",\"orange\") # replacing \"apple\" with \"orange\"\n",
    "print(f\"After Replacing string is: {_string}\")"
   ]
  },
  {
   "cell_type": "code",
   "execution_count": 33,
   "metadata": {},
   "outputs": [
    {
     "name": "stdout",
     "output_type": "stream",
     "text": [
      "[1, 2, 3, 4, 5]\n",
      "<class 'list'>\n"
     ]
    }
   ],
   "source": [
    "# 6. Write a code to create a list with numbers 1 to 5 and print it.\n",
    "\n",
    "my_list = [1,2,3,4,5] # creating list\n",
    "print(my_list) # Printing list\n",
    "print(type(my_list))"
   ]
  },
  {
   "cell_type": "code",
   "execution_count": 34,
   "metadata": {},
   "outputs": [
    {
     "name": "stdout",
     "output_type": "stream",
     "text": [
      "Original List: [1, 2, 3, 4]\n",
      "Appended List: [1, 2, 3, 4, 10]\n"
     ]
    }
   ],
   "source": [
    "# 7. Write a code to append the number 10 to the list [1, 2, 3, 4].\n",
    "\n",
    "my_list = [1,2,3,4]\n",
    "print(f\"Original List: {my_list}\")\n",
    "\n",
    "my_list.append(10) # => appending number 10 to the list\n",
    "\n",
    "print(f\"Appended List: {my_list}\")"
   ]
  },
  {
   "cell_type": "code",
   "execution_count": 35,
   "metadata": {},
   "outputs": [
    {
     "name": "stdout",
     "output_type": "stream",
     "text": [
      "Printing Original list [1, 2, 3, 4, 5]\n",
      "Updated list: [1, 2, 4, 5]\n"
     ]
    }
   ],
   "source": [
    "# 8. Write a code to remove the number 3 from the list [1, 2, 3, 4, 5]\n",
    "\n",
    "my_list = [1,2,3,4,5]\n",
    "print(f\"Printing Original list {my_list}\")\n",
    "\n",
    "# removing 3 \n",
    "my_list.remove(3)\n",
    "print(f\"Updated list: {my_list}\")"
   ]
  },
  {
   "cell_type": "code",
   "execution_count": 36,
   "metadata": {},
   "outputs": [
    {
     "name": "stdout",
     "output_type": "stream",
     "text": [
      "b\n"
     ]
    }
   ],
   "source": [
    "# 9. Write a code to access the second element in the list ['a', 'b', 'c', 'd']\n",
    "\n",
    "my_list = ['a','b','c','d']\n",
    "print(my_list[1])  # Accessing the second element which is 'b' and its index is 1"
   ]
  },
  {
   "cell_type": "code",
   "execution_count": 37,
   "metadata": {},
   "outputs": [
    {
     "name": "stdout",
     "output_type": "stream",
     "text": [
      "Original list is: [10, 20, 30, 40, 50]\n",
      "[50, 40, 30, 20, 10]\n"
     ]
    }
   ],
   "source": [
    "# 10. Write a code to reverse the list [10, 20, 30, 40, 50].\n",
    "\n",
    "my_list = [10,20,30,40,50]\n",
    "print(f\"Original list is: {my_list}\")\n",
    "\n",
    "print(my_list[::-1])"
   ]
  },
  {
   "cell_type": "code",
   "execution_count": 38,
   "metadata": {},
   "outputs": [
    {
     "name": "stdout",
     "output_type": "stream",
     "text": [
      "(100, 200, 300)\n",
      "<class 'tuple'>\n"
     ]
    }
   ],
   "source": [
    "# 11. Write a code to create a tuple with the elements 100, 200, 300 and print it.\n",
    "\n",
    "my_tuple = (100,200,300)\n",
    "print(my_tuple)\n",
    "print(type(my_tuple))"
   ]
  },
  {
   "cell_type": "code",
   "execution_count": null,
   "metadata": {},
   "outputs": [
    {
     "name": "stdout",
     "output_type": "stream",
     "text": [
      "('green', 'blue', 'yellow')\n"
     ]
    }
   ],
   "source": [
    "# 12. Write a code to access the second-to-last element of the tuple ('red', 'green', 'blue', 'yellow').\n",
    "\n",
    "my_tuple = ('red', 'green', 'blue', 'yellow')\n",
    "print(my_tuple[1::]) # accessing the second to last elements of the tuple"
   ]
  },
  {
   "cell_type": "code",
   "execution_count": null,
   "metadata": {},
   "outputs": [
    {
     "name": "stdout",
     "output_type": "stream",
     "text": [
      "5\n"
     ]
    }
   ],
   "source": [
    "# 13. Write a code to find the minimum number in the tuple (10, 20, 5, 15).\n",
    "\n",
    "my_tuple = (10,20,5,15)\n",
    "\n",
    "min_value = min(my_tuple)\n",
    "print(min_value) # => prints the minimum number which is present inside the my_tuple"
   ]
  },
  {
   "cell_type": "code",
   "execution_count": 54,
   "metadata": {},
   "outputs": [
    {
     "name": "stdout",
     "output_type": "stream",
     "text": [
      "1\n"
     ]
    }
   ],
   "source": [
    "# 14. Write a code to find the index of the element \"cat\" in the tuple ('dog', 'cat', 'rabbit').\n",
    "\n",
    "my_tuple = ('dog','cat','rabbit')\n",
    "\n",
    "cat_index = my_tuple.index('cat')\n",
    "print(cat_index)"
   ]
  },
  {
   "cell_type": "code",
   "execution_count": 56,
   "metadata": {},
   "outputs": [
    {
     "name": "stdout",
     "output_type": "stream",
     "text": [
      "Kiwi is in fruits\n"
     ]
    }
   ],
   "source": [
    "# 15. Write a code to create a tuple containing three different fruits and check if \"kiwi\" is in it.\n",
    "\n",
    "fruits = ('orange','apple','kiwi')\n",
    "\n",
    "if 'kiwi' in fruits:\n",
    "    print(\"Kiwi is in fruits\")\n",
    "else:\n",
    "    print(\"kiwi is not in fruits\")"
   ]
  },
  {
   "cell_type": "code",
   "execution_count": null,
   "metadata": {},
   "outputs": [
    {
     "name": "stdout",
     "output_type": "stream",
     "text": [
      "{'c', 'a', 'b'}\n"
     ]
    },
    {
     "data": {
      "text/plain": [
       "set"
      ]
     },
     "execution_count": 58,
     "metadata": {},
     "output_type": "execute_result"
    }
   ],
   "source": [
    "# 16. Write a code to create a set with the elements 'a', 'b', 'c' and print it.\n",
    "\n",
    "my_set = {'a','b','c'}\n",
    "print(my_set) # => It will print in un ordered way.\n",
    "type(my_set)"
   ]
  },
  {
   "cell_type": "code",
   "execution_count": null,
   "metadata": {},
   "outputs": [
    {
     "name": "stdout",
     "output_type": "stream",
     "text": [
      "Before Clearing all elements: {1, 2, 3, 4, 5}\n",
      "After clearing all elements: set()\n"
     ]
    },
    {
     "data": {
      "text/plain": [
       "set"
      ]
     },
     "execution_count": 60,
     "metadata": {},
     "output_type": "execute_result"
    }
   ],
   "source": [
    "# 17. Write a code to clear all elements from the set {1, 2, 3, 4, 5}.\n",
    "\n",
    "my_set = {1,2,3,4,5}\n",
    "print(f\"Before Clearing all elements: {my_set}\")\n",
    "\n",
    "my_set.clear()\n",
    "print(f\"After clearing all elements: {my_set}\")\n",
    "type(my_set)"
   ]
  },
  {
   "cell_type": "code",
   "execution_count": null,
   "metadata": {},
   "outputs": [
    {
     "name": "stdout",
     "output_type": "stream",
     "text": [
      "Before removing element 4: {1, 2, 3, 4}\n",
      "After removing element 4: {1, 2, 3}\n"
     ]
    }
   ],
   "source": [
    "# 18. Write a code to remove the element 4 from the set {1, 2, 3, 4}.\n",
    "\n",
    "my_set = {1,2,3,4}\n",
    "print(f\"Before removing element 4: {my_set}\")\n",
    "\n",
    "my_set.remove(4)\n",
    "print(f\"After removing element 4: {my_set}\")\n"
   ]
  },
  {
   "cell_type": "code",
   "execution_count": null,
   "metadata": {},
   "outputs": [
    {
     "name": "stdout",
     "output_type": "stream",
     "text": [
      "{1, 2, 3, 4, 5}\n"
     ]
    }
   ],
   "source": [
    "# 19. Write a code to find the union of two sets {1, 2, 3} and {3, 4, 5}.\n",
    "\n",
    "set1 = {1,2,3}\n",
    "set2 = {3,4,5}\n",
    "union_set = set1.union(set2)\n",
    "print(union_set)"
   ]
  },
  {
   "cell_type": "code",
   "execution_count": null,
   "metadata": {},
   "outputs": [
    {
     "name": "stdout",
     "output_type": "stream",
     "text": [
      "Intersection set is: {2, 3}\n"
     ]
    }
   ],
   "source": [
    "# 20. Write a code to find the intersection of two sets {1, 2, 3} and {2, 3, 4}.\n",
    "\n",
    "set1 = {1,2,3}\n",
    "set2 = {2,3,4}\n",
    "intersection_set = set1.intersection(set2)\n",
    "print(f\"Intersection set is: {intersection_set}\")"
   ]
  },
  {
   "cell_type": "code",
   "execution_count": null,
   "metadata": {},
   "outputs": [
    {
     "name": "stdout",
     "output_type": "stream",
     "text": [
      "{'name': 'Shubham Sharma', 'age': 19, 'city': 'Bilaspur(H.P)'}\n"
     ]
    }
   ],
   "source": [
    "# 21. Write a code to create a dictionary with the keys \"name\", \"age\", and \"city\", and print it.\n",
    "\n",
    "dictionary = {\"name\":\"Shubham Sharma\",\"age\":19,\"city\":\"Bilaspur(H.P)\"}\n",
    "print(dictionary)"
   ]
  },
  {
   "cell_type": "code",
   "execution_count": null,
   "metadata": {},
   "outputs": [
    {
     "name": "stdout",
     "output_type": "stream",
     "text": [
      "{'name': 'john', 'age': 25, 'country': 'USA'}\n"
     ]
    }
   ],
   "source": [
    "# 22. Write a code to add a new key-value pair \"country\": \"USA\" to the dictionary {'name': 'John', 'age': 25}.\n",
    "\n",
    "my_dict = {\"name\":\"john\",\"age\":25} # => Initial dictionary\n",
    "my_dict[\"country\"] = \"USA\" # => Adding new key-value pair \n",
    "\n",
    "print(my_dict)"
   ]
  },
  {
   "cell_type": "code",
   "execution_count": null,
   "metadata": {},
   "outputs": [
    {
     "name": "stdout",
     "output_type": "stream",
     "text": [
      "Alice\n"
     ]
    }
   ],
   "source": [
    "# 23. Write a code to access the value associated with the key \"name\" in the dictionary {'name': 'Alice', 'age': 30}.\n",
    "\n",
    "my_dict = {'name':'Alice','age':30}\n",
    "print(my_dict['name'])"
   ]
  },
  {
   "cell_type": "code",
   "execution_count": 12,
   "metadata": {},
   "outputs": [
    {
     "name": "stdout",
     "output_type": "stream",
     "text": [
      "Original Dictionary: {'name': 'bob', 'age': 22, 'city': 'New York'}\n",
      "Dictionary After Removing 'age' : {'name': 'bob', 'city': 'New York'}\n"
     ]
    }
   ],
   "source": [
    "# 24. Write a code to remove the key \"age\" from the dictionary {'name': 'Bob', 'age': 22, 'city': 'New York'}.\n",
    "\n",
    "my_dict = {'name':'bob', 'age':22, 'city':'New York'}\n",
    "print(f\"Original Dictionary: {my_dict}\")\n",
    "my_dict.pop('age')\n",
    "print(f\"Dictionary After Removing 'age' : {my_dict}\")"
   ]
  },
  {
   "cell_type": "code",
   "execution_count": null,
   "metadata": {},
   "outputs": [
    {
     "name": "stdout",
     "output_type": "stream",
     "text": [
      "Key is present in my_dict\n"
     ]
    }
   ],
   "source": [
    "# 25. Write a code to check if the key \"city\" exists in the dictionary {'name': 'Alice', 'city': 'Paris'}.\n",
    "\n",
    "my_dict = {'name':'Alice','city':'paris'}\n",
    "\n",
    "if 'city' in my_dict.keys():\n",
    "    print(\"Key is present in my_dict\")\n",
    "else:\n",
    "    print(\"Key is nor present in my_dict\")"
   ]
  },
  {
   "cell_type": "code",
   "execution_count": 21,
   "metadata": {},
   "outputs": [
    {
     "name": "stdout",
     "output_type": "stream",
     "text": [
      "List is [1, 2, 3, 4, 5] \n",
      "\n",
      "Tuple is: (1, 2, 3, 4, 5) \n",
      "\n",
      "Dictionary is: {'name': 'Shubham Sharma'}\n"
     ]
    }
   ],
   "source": [
    "# 26. Write a code to create a list, a tuple, and a dictionary, and print them all.\n",
    "\n",
    "_list = [1,2,3,4,5]\n",
    "_tuple = (1,2,3,4,5)\n",
    "_dict = {\"name\":\"Shubham Sharma\"}\n",
    "\n",
    "print(f\"List is {_list} \\n\\nTuple is: {_tuple} \\n\\nDictionary is: {_dict}\")"
   ]
  },
  {
   "cell_type": "code",
   "execution_count": 28,
   "metadata": {},
   "outputs": [
    {
     "name": "stdout",
     "output_type": "stream",
     "text": [
      "Random numbers are in list: [39, 58, 63, 76, 79]\n"
     ]
    }
   ],
   "source": [
    "# 27. Write a code to create a list of 5 random numbers between 1 and 100, sort it in ascending order, and print the result.(replaced)\n",
    "\n",
    "import random\n",
    "\n",
    "# generate a list of 5 random numbers\n",
    "random_numbers = random.sample(range(1,101),5)\n",
    "# Sorting the list in ascending order\n",
    "random_numbers.sort()\n",
    "# printing the numbers\n",
    "print(f\"Random numbers are in list: {random_numbers}\")"
   ]
  },
  {
   "cell_type": "code",
   "execution_count": null,
   "metadata": {},
   "outputs": [
    {
     "name": "stdout",
     "output_type": "stream",
     "text": [
      "PwSkills\n"
     ]
    }
   ],
   "source": [
    "# 28. Write a code to create a list with strings and print the element at the third index.\n",
    "\n",
    "# create a list with strings\n",
    "my_list = ['Shubham Sharma','Dr. Darshan Ingle','Ajay','PwSkills','Alakh Panday']\n",
    "\n",
    "# printing the element at the third index\n",
    "print(my_list[3]) # => Printing the 3rd index"
   ]
  },
  {
   "cell_type": "code",
   "execution_count": null,
   "metadata": {},
   "outputs": [
    {
     "name": "stdout",
     "output_type": "stream",
     "text": [
      "{'name': 'Shubham Sharma', 'age': 19, 'city': 'Bilaspur [H.p]', 'coder': 'yes'}\n"
     ]
    }
   ],
   "source": [
    "# 29. Write a code to combine two dictionaries into one and print the result.\n",
    "\n",
    "dict1 = {\"name\":\"Shubham Sharma\",\"age\":19}\n",
    "dict2 = {\"city\":\"Bilaspur [H.p]\",\"coder\":\"yes\"}\n",
    "dict1.update(dict2)\n",
    "print(dict1)"
   ]
  },
  {
   "cell_type": "code",
   "execution_count": null,
   "metadata": {},
   "outputs": [
    {
     "name": "stdout",
     "output_type": "stream",
     "text": [
      "['Hi', 'How', 'Are', 'You', '?', 'Fine!']\n",
      "<class 'list'>\n",
      "{'You', '?', 'How', 'Are', 'Fine!', 'Hi'}\n",
      "<class 'set'>\n"
     ]
    }
   ],
   "source": [
    "# 30. Write a code to convert a list of strings into a set.\n",
    "\n",
    "list_of_strings = ['Hi','How','Are','You','?','Fine!']\n",
    "print(f\"{list_of_strings}\")\n",
    "print(type(list_of_strings))\n",
    "convert_2_set = set(list_of_strings)\n",
    "print(f\"{convert_2_set}\")\n",
    "print(type(convert_2_set))"
   ]
  }
 ],
 "metadata": {
  "kernelspec": {
   "display_name": "base",
   "language": "python",
   "name": "python3"
  },
  "language_info": {
   "codemirror_mode": {
    "name": "ipython",
    "version": 3
   },
   "file_extension": ".py",
   "mimetype": "text/x-python",
   "name": "python",
   "nbconvert_exporter": "python",
   "pygments_lexer": "ipython3",
   "version": "3.12.7"
  }
 },
 "nbformat": 4,
 "nbformat_minor": 2
}
