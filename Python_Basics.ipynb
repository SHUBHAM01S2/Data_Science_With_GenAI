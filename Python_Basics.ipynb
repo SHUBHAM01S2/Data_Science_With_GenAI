{
 "cells": [
  {
   "cell_type": "markdown",
   "metadata": {},
   "source": [
    "### 1. What is Python, and why is it popular ?\n",
    "    - Python is a programming language used in different areas in tech industry. It is developed by guido van rossum in 1991. Python is popular because it provides many features for doing the task. using python we can develop mobile apps, games, web development & data science as well machine learning projects. It provides various libraries for performing different tasks. for e.g Pandas, NumPy, Matplotlib, Seaborn for Data Visualization and libraries like Scikit-learn, Tensorflow, Keras for performing Machine Learning and Deep Learning tasks.\n",
    "\n",
    "### 2. What is an interpreter in Python ?\n",
    "    - An interpreter is like a compiler which runs python code line-by-line and convert the high level language code into binary form so that computer or machine can understand that what's going inside the code. \n",
    "\n",
    "### 3. What are pre-defined keywords in Python ?\n",
    "    - Pre-defined keywords are keywords which are defined by the programmer/developer of the language for performing tasks. so that the programmer use those keywords for performing task instead of writing the whole code.\n",
    "    predefined keywords include:- if, elif, for, is, in, else, while & break, etc they have its special role in programming language.\n",
    "\n",
    "### 4. Can keywords be used as variable names ?\n",
    "    - No keywords can not be used as variable names. because keywords have there unique work in programming language. if we do that the interpreter does not allow the keywords to work properly and throw errors.\n",
    "\n",
    "### 5. What is mutability in Python ?\n",
    "    - Mutability in python is of two types:- \n",
    "    1. Mutable:- It means those objects in which we can modify or change there elements after there creation. for e.g lists, sets, etc\n",
    "    2. Immutable:- It means those objects in which we can not modify or change there elements after there creation. for e.g tuples, strings etc\n",
    "\n",
    "### 6. Why are lists mutable, but tuples are immutable  ?\n",
    "    - lists are mutable because we can change there values after there declaration & in tuples we can't change there values/elements after there creation. That's why lists are mutable in nature and tuples are immutable in nature.\n",
    "\n",
    "### 7. What is the difference between “==” and “is” operators in Python ?\n",
    "    - \"==\" is a equality operator which is used to check whether the value_1 is equal to value_2 or not if Value_1 == Value_2 it gives True otherwise False.\n",
    "    - \"is\" is a Identuty operator which is used to compares the identity of two objects, meaning whether they are the same object in memory.\n",
    "\n",
    "### 8. What are logical operators in Python ?\n",
    "    - logical operators in python are operators which are used for performing logical operations. \n",
    "    examples of logical operators are: - and, or, not.\n",
    "    1. \"and\":- It will print true if both conditions are true otherwise it will print false.\n",
    "    2. \"or\":- It will print true if one of the condition is true as well as both conditions are true then it will print true, otherwise it will print false.\n",
    "    3. \"not\":- It will convert true to false and false to true.\n",
    "\n",
    "### 9. What is type casting in Python ?\n",
    "    - Type casting is a process of converting the one datatype to an another data type. There are two methods in python for performing type casting.\n",
    "    1. Implicit\n",
    "    2. Explicit\n",
    "\n",
    "### 10. What is the difference between implicit and explicit type casting ?\n",
    "    - The difference between implicit and explicit type casting are:-\n",
    "    1. Implicit Type-Casting:- In this type of type casting the compiler automatically converts the datatype to another datatype for e.g when you add 7+7.7 it will give you 14.7 as an output. where it will treat 7 as a 7.0 after that adds the values and gives 14.7 as an output.\n",
    "    2. Explicit Type-Casting: - In this type of type casting the programmmer manually performing the type casting. for e,g you are making an program which takes input from runtime and after that it will add the numbers:-"
   ]
  },
  {
   "cell_type": "code",
   "execution_count": null,
   "metadata": {},
   "outputs": [],
   "source": [
    "#### Without type casting \n",
    "num1 = input('Enter the first number')\n",
    "num2 = input('Enter the second number')\n",
    "result = num1 + num2\n",
    "print(result) # => as you know the input() takes an input by default in string datatype so you need to perform Explicit Type-Casting here."
   ]
  },
  {
   "cell_type": "code",
   "execution_count": null,
   "metadata": {},
   "outputs": [],
   "source": [
    "#### With Explicit Type Casting\n",
    "num1 = int(input('Enter the first number'))\n",
    "num2 = int(input('Enter the second number'))\n",
    "result = num1 + num2\n",
    "print(result)"
   ]
  },
  {
   "cell_type": "markdown",
   "metadata": {},
   "source": [
    "### 11. What is the purpose of conditional statements in Python ?\n",
    "    - The purpose of conditional statements in python is to control the execution of the program and makes it more effective according to conditions.\n",
    "\n",
    "### 12. How does the elif statement work ?\n",
    "    The elif statement in Python is short for \"else if\" and is used as part of an if-elif-else conditional structure. It allows us to check multiple conditions in sequence. Once it finds a condition that evaluates to True, it executes the corresponding block of code and skips the other block of codes.\n",
    "\n",
    "### 13. What is the difference between for and while loops ?\n",
    "    - for loop: Used when the number of iterations is known.\n",
    "    - while loop: Used when the number of iterations is unknown and depends on a condition.\n",
    "\n",
    "### 14. Describe a scenario where a while loop is more suitable than a for loop.\n",
    "    - We'll use while loop in that scenario where we need to find the one condition in all conditions or in simple words it is used when the number of iterations is unknown and depends on a condition.\n",
    "    "
   ]
  },
  {
   "cell_type": "markdown",
   "metadata": {},
   "source": [
    "## Practical Questions"
   ]
  },
  {
   "cell_type": "code",
   "execution_count": 1,
   "metadata": {},
   "outputs": [
    {
     "name": "stdout",
     "output_type": "stream",
     "text": [
      "Hello, World!\n"
     ]
    }
   ],
   "source": [
    "# 1. Write a Python program to print \"Hello, World!\"\n",
    "print(\"Hello, World!\")"
   ]
  },
  {
   "cell_type": "code",
   "execution_count": 5,
   "metadata": {},
   "outputs": [
    {
     "name": "stdout",
     "output_type": "stream",
     "text": [
      "I am {name} & I am {age} years old.\n"
     ]
    }
   ],
   "source": [
    "# 2. Write a Python program that displays your name and age.\n",
    "name = \"Shubham Sharma\"\n",
    "age = 19\n",
    "print('I am {name} & I am {age} years old.')"
   ]
  },
  {
   "cell_type": "code",
   "execution_count": 3,
   "metadata": {},
   "outputs": [
    {
     "name": "stdout",
     "output_type": "stream",
     "text": [
      "Python Keywords:\n",
      "False\n",
      "None\n",
      "True\n",
      "and\n",
      "as\n",
      "assert\n",
      "async\n",
      "await\n",
      "break\n",
      "class\n",
      "continue\n",
      "def\n",
      "del\n",
      "elif\n",
      "else\n",
      "except\n",
      "finally\n",
      "for\n",
      "from\n",
      "global\n",
      "if\n",
      "import\n",
      "in\n",
      "is\n",
      "lambda\n",
      "nonlocal\n",
      "not\n",
      "or\n",
      "pass\n",
      "raise\n",
      "return\n",
      "try\n",
      "while\n",
      "with\n",
      "yield\n"
     ]
    }
   ],
   "source": [
    "# 3. Write code to print all the pre-defined keywords in Python using the keyword library.\n",
    "import keyword\n",
    "\n",
    "print(\"Python Keywords:\")\n",
    "for kw in keyword.kwlist:\n",
    "    print(kw)"
   ]
  },
  {
   "cell_type": "code",
   "execution_count": null,
   "metadata": {},
   "outputs": [],
   "source": [
    "# 4. Write a program that checks if a given word is a Python keyword.\n",
    "\n",
    "word = input('Enter Word')\n",
    "import keyword \n",
    "if word.lower() in keyword.kwlist:\n",
    "    print(f\"You entered this as input '{word}' and It is a Keyword\") # => Enter inAnd put as if then this block of code is executed\n",
    "else:\n",
    "    print(f\"You entered this as input '{word}' and It is not a Keyword\") # => Enter input your name for testing purpose then this block of code is executed"
   ]
  },
  {
   "cell_type": "code",
   "execution_count": null,
   "metadata": {},
   "outputs": [],
   "source": [
    "# 5. Create a list and tuple in Python, and demonstrate how attempting to change an element works differently for each.\n",
    "\n",
    "# Creating an list \n",
    "list_ = [1,2,3,4,5]\n",
    "print(f'Original List is: {list_}')\n",
    "# Changing Elements\n",
    "list_[0] = \"Shubham\"\n",
    "print(f'Modified List is: {list_}') # => Changes made because it is a mutable in nature\n",
    "\n",
    "##### => Creating an tuple\n",
    "\n",
    "tuple_ = (1,2,3,4,5)\n",
    "print(f'Original List is: {tuple_}')\n",
    "\n",
    "# Changing Elements\n",
    "tuple_[0] = \"Shubham\"\n",
    "print(f'Original List is: {tuple_}') # => Changes does not made because it is a immutable in nature that's why gives an error\n",
    "\n"
   ]
  },
  {
   "cell_type": "code",
   "execution_count": null,
   "metadata": {},
   "outputs": [],
   "source": [
    "# 6. Write a function to demonstrate the behavior of mutable and immutable arguments\n",
    "\n",
    "def demonstrate_mutable_immutable(num, lst):\n",
    "    # Trying to change the immutable argument (integer)\n",
    "    num += 5\n",
    "    print(f\"Inside function (immutable): {num}\")\n",
    "\n",
    "    # Trying to change the mutable argument (list)\n",
    "    lst.append(10)\n",
    "    print(f\"Inside function (mutable): {lst}\")\n",
    "\n",
    "# Immutable argument (integer)\n",
    "x = 20\n",
    "# Mutable argument (list)\n",
    "y = [1, 2, 3]\n",
    "\n",
    "print(f\"Before function call: x = {x}, y = {y}\")\n",
    "demonstrate_mutable_immutable(x, y)\n",
    "print(f\"After function call: x = {x}, y = {y}\")\n"
   ]
  },
  {
   "cell_type": "code",
   "execution_count": null,
   "metadata": {},
   "outputs": [],
   "source": [
    "# 7. Write a program that performs basic arithmetic operations on two user-input numbers\n",
    "num1 = int(input(\"Enter 1st Number: \"))\n",
    "num2 = int(input(\"Enter 2nd Number: \"))\n",
    "print(f\"first number is: {num1} & second number is: {num2} Addition = {num1 + num2}\")\n",
    "print(f\"first number is: {num1} & second number is: {num2} Subtration = {num1 - num2}\")\n",
    "print(f\"first number is: {num1} & second number is: {num2} Multiplication = {num1 * num2}\")\n",
    "print(f\"first number is: {num1} & second number is: {num2} Division = {num1 / num2}\")\n"
   ]
  },
  {
   "cell_type": "code",
   "execution_count": null,
   "metadata": {},
   "outputs": [],
   "source": [
    "# 8. Write a program to demonstrate the use of logical operators\n",
    "passing_marks = 40\n",
    "subject1 = int(input(\"Enter the marks.\"))\n",
    "subject2 = int(input(\"Enter the marks.\"))\n",
    "subject3 = int(input(\"Enter the marks.\"))\n",
    "\n",
    "if subject1 >= passing_marks and subject2 >= passing_marks and subject3 >= passing_marks:\n",
    "    total_marks = subject1 + subject2 + subject3\n",
    "    percentage = (total_marks / 300) * 100\n",
    "    print(f\"Your Total Marks is: {total_marks}\")\n",
    "    print(f\"Your Percentage is: {percentage}\")\n",
    "    print(f'Your Score in 1st Subject {subject1} Your Score in 2nd Subject {subject2} Your Score in 3rd Subject {subject3} And You are pass')\n",
    "else:\n",
    "    print(f\"Your Score in 1st Subject {subject1} Your Score in 2nd Subject {subject2} Your Score in 3rd Subject {subject3} And You are fail\")\n",
    "    total_marks = subject1 + subject2 + subject3\n",
    "    percentage = (total_marks / 300) * 100\n",
    "    print(f\"Your Total Marks is: {total_marks}\")\n",
    "    print(f\"Your Percentage is: {percentage}\")"
   ]
  },
  {
   "cell_type": "code",
   "execution_count": null,
   "metadata": {},
   "outputs": [],
   "source": [
    "# 9. Write a Python program to convert user input from string to integer, float, and boolean types\n",
    "user_input = input(\"Enter the number\")\n",
    "type(user_input) # => Checking the type of user input\n",
    "print(f\"The Input is: {user_input}\")\n",
    "# Converting user_Input to integer from string\n",
    "\n",
    "number = int(user_input)\n",
    "type(user_input) # => Checking the type of user input\n",
    "print(f\"The Integer input is: {number}\")\n",
    "\n",
    "float_ = float(user_input)\n",
    "type(user_input) # => Checking the type of user input\n",
    "print(f\"The float input is: {float_}\")    \n",
    "\n",
    "boolean_ = bool(user_input)\n",
    "type(user_input) # => Checking the type of user input\n",
    "\n",
    "print(f\"The boolean input is: {boolean_}\")"
   ]
  },
  {
   "cell_type": "code",
   "execution_count": null,
   "metadata": {},
   "outputs": [],
   "source": [
    "# 10 Write code to demonstrate type casting with list elements.\n",
    "\n",
    "list_ = [1,2,3,4,5,6.0]\n",
    "print(f\"list elements are: {list_}\")\n",
    "\n",
    "print(f\"1st element is {list_[0]} {type(list_[0])}\")\n",
    "list_[0] = float(list_[0]) # => Converting integer to float\n",
    "print(f\"1st element is {list_[0]} {type(float(list_[0]))}\")\n",
    "\n",
    "print(\"======================================\")\n",
    "\n",
    "print(f\"1st element is {list_[-1]} {type(list_[-1])}\")\n",
    "list_[-1] = int(list_[-1]) # => Converting integer to float\n",
    "print(f\"last element is {list_[-1]} {type(int(list_[-1]))}\")"
   ]
  },
  {
   "cell_type": "code",
   "execution_count": null,
   "metadata": {},
   "outputs": [],
   "source": [
    "# 11. Write a program that checks if a number is positive, negative, or zero.\n",
    "\n",
    "number = int(input(\"Enter the number you want to check: \"))\n",
    "if number > 0:\n",
    "    print(f\"You entered this number {number} and it is positive\")\n",
    "elif number == 0:\n",
    "    print(f\"You entered this number {number} and it is zero\")\n",
    "elif number < 0:\n",
    "    print(f\"You entered this number {number} and it is negative\")\n",
    "else:\n",
    "    print(\"This is else block\")"
   ]
  },
  {
   "cell_type": "code",
   "execution_count": null,
   "metadata": {},
   "outputs": [],
   "source": [
    "# 12. Write a for loop to print numbers from 1 to 10.\n",
    "number = 1\n",
    "while number <=10:\n",
    "    print(number)\n",
    "    number +=1"
   ]
  },
  {
   "cell_type": "code",
   "execution_count": null,
   "metadata": {},
   "outputs": [],
   "source": [
    "# 13. Write a Python program to find the sum of all even numbers between 1 and 50.\n",
    "sum_of_evens = 0\n",
    "for number in range(1, 51):\n",
    "    if number % 2 == 0:\n",
    "        sum_of_evens += number\n",
    "\n",
    "print(f\"Sum of even numbers from 1 to 50 is: {sum_of_evens}\")\n"
   ]
  },
  {
   "cell_type": "code",
   "execution_count": null,
   "metadata": {},
   "outputs": [],
   "source": [
    "# 14 Write a program to reverse a string using a while loop.\n",
    "def reverse_string(s):\n",
    "    reversed_str = \"\"\n",
    "    i = len(s) - 1  # Start from the last character\n",
    "    while i >= 0:\n",
    "        reversed_str += s[i]\n",
    "        i -= 1  # Move to the previous character\n",
    "    return reversed_str\n",
    "\n",
    "# Taking input from the user\n",
    "string = input(\"Enter a string: \")\n",
    "print(\"Reversed string:\", reverse_string(string))\n"
   ]
  },
  {
   "cell_type": "code",
   "execution_count": null,
   "metadata": {},
   "outputs": [],
   "source": [
    "# 15. Write a Python program to calculate the factorial of a number provided by the user using a while loop.\n",
    "def factorial(num):\n",
    "    fact = 1\n",
    "    while num > 0:\n",
    "        fact *= num\n",
    "        num -= 1\n",
    "    return fact\n",
    "\n",
    "# Taking input from the user\n",
    "number = int(input(\"Enter a number: \"))\n",
    "\n",
    "if number < 0:\n",
    "    print(\"Factorial is not defined for negative numbers.\")\n",
    "else:\n",
    "    print(f\"Factorial of {number} is {factorial(number)}\")\n"
   ]
  }
 ],
 "metadata": {
  "kernelspec": {
   "display_name": "base",
   "language": "python",
   "name": "python3"
  },
  "language_info": {
   "codemirror_mode": {
    "name": "ipython",
    "version": 3
   },
   "file_extension": ".py",
   "mimetype": "text/x-python",
   "name": "python",
   "nbconvert_exporter": "python",
   "pygments_lexer": "ipython3",
   "version": "3.12.7"
  }
 },
 "nbformat": 4,
 "nbformat_minor": 2
}
