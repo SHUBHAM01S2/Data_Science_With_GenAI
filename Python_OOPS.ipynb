{
 "cells": [
  {
   "cell_type": "markdown",
   "metadata": {},
   "source": [
    "# Assignment Questions\n",
    "\n",
    "### 1. What is Object-Oriented Programming (OOP)?\n",
    "    - Object-Oriented Programming (OOP) is a programming paradigm based on the concept of objects, which can contain data (attributes) and methods (functions). It helps in organizing and structuring code in a way that models real-world entities.\n",
    "    For E.g: A Car as an object\n",
    "    - Properties of object car => Color of the car, Brand of the car, Speed of the car\n",
    "    - Methods of the Car => Drive the car using Accelerator, Stop the car using Break, Honk\n",
    "\n",
    "### 2. What is a class in OOP?\n",
    "    - In Object-Oriented Programming (OOP), A class is a blueprint for creating the objects. It defines attributes (variables) and behaviors (methods).\n",
    "    for e.g \n",
    "    class Car:\n",
    "        def __init__(self,name):\n",
    "            self.name = name\n",
    "    here __init__(self, name) is a method (specifically, a constructor method). & self.name is an instance variable.\n",
    "\n",
    "### 3. What is an object in OOP?\n",
    "    - An object is like a real-world thing that has properties (data) and actions (functions). For e.g, A Car object has color (property) & can drive action.\n",
    "    for e.g \n",
    "        class Car:\n",
    "            def __init__(self, name):\n",
    "                self.name = name  # Property of the class\n",
    "\n",
    "            def drive(self):  # Action of the class\n",
    "                print(f\"{self.name} is driving!\")\n",
    "\n",
    "    car1 = Car(\"Toyota\")\n",
    "    car1.drive()  # Prints => Toyota is driving!\n",
    "\n",
    "### 4. What is the difference between abstraction and encapsulation?\n",
    "    - Abstraction is a concept in OOP. Which is used for hiding complex details and showing only important parts. For e.g:- when you're driving a car, you just press the accelerator (You don't see that the engine is working)\n",
    "\n",
    "    - Encapsulation is a concept in OOP. Which is used for protecting the data by restricting direct access. For e.g:- A car's engine inside the hood, so you can't touch it directly.\n",
    "\n",
    "### 5. What are dunder methods in Python?\n",
    "    - Dunder methods in python are also called as special methods and magic methods. These methods starts and ends with __ (double underscores). For e.g, __init__, __str__, __repr__ & etc.\n",
    "\n",
    "### 6. Explain the concept of inheritance in OOP.\n",
    "    - Inheritance is also an important concept in OOP. It allows a new class (child) to use the properties and methods of an existing class (parent). As the name Suggests Inheritance it inherits the properties of base classes of super classes and used the properties inside the child class.\n",
    "    For e.g, A Car class can be a parent of ElectricCar (child). In simple words Car (Parent Class) and ElectricCar (Child Class) which inherits the properties and methods of Car(Parent class).\n",
    "\n",
    "### 7. What is polymorphism in OOP?\n",
    "    - Polymorphism is an important concept in OOP. It is a combination of two words (poly + morphism). Poly means many & morphism means Forms. Polymorphism means one function can work in different ways for different objects. For e.g, A speak() function works differently for a Dog and a Cat.\n",
    "\n",
    "### 8. How is encapsulation achieved in Python?\n",
    "    - Encapsulation is achieved in Python by making variables private using double underscore __.\n",
    "    for e.g: - \n",
    "        class BankAccount:\n",
    "        def __init__(self, balance):\n",
    "            self.__balance = balance  # This is a private variable\n",
    "\n",
    "        def get_balance(self):  # Getter method used to show the balance\n",
    "            return self.__balance\n",
    "\n",
    "    account = BankAccount(5000)\n",
    "    print(account.get_balance())  #  It gives Output: 5000\n",
    "    print(account.__balance)  #  This will throw an error because it is an private variable you can't access it directly\n",
    "\n",
    "### 9. What is a constructor in Python?\n",
    "    - A constructor (__init__ method) is a special method that runs automatically when an object is created.\n",
    "    for e.g, class Car:\n",
    "                def __init(self,model): # Constructor \n",
    "                    self.model = model  # => Instance Variable\n",
    "\n",
    "### 10. What are class and static methods in Python?\n",
    "    - Class Method: It is acheived using @classmethod keyword. It works with the class, not with instances. instead of using self as params we'll use cls here. It os used when we need to modify the changes without updating the main function.\n",
    "    - Static Method: It is acheived using @staticmethod keyword. It words without self or cls\n",
    "\n",
    "### 11. What is method overloading in Python?\n",
    "    - Method overloading is a process in which we'll create multiple functions with same name but we'll pass different params into those functions. In python it does not support real method overloading, but we can achieve it using default parameters.\n",
    "    for e.g,\n",
    "    class Math:\n",
    "        def __init__(self,a,b,c=0):\n",
    "            return a+b+c\n",
    "    m = Math()\n",
    "    print(m.add(2,3))    # Prints 5\n",
    "    print(m.add(2,3,4))  # Prints 9\n",
    "\n",
    "### 12. What is method overriding in OOP?\n",
    "    - Method overriding occurs when the child class replaces (overrides) a method from the parent class.\n",
    "    for e.g,\n",
    "    class Animal:\n",
    "            def sound(self):\n",
    "                print(\"Some Sound...\")\n",
    "    class Dog(Animal):\n",
    "        def sound(self):\n",
    "            print(\"Bark!\")\n",
    "    dog = Dog()\n",
    "    dog.sound() # Prints the Bark!\n",
    "\n",
    "### 13. What is a property decorator in Python ?\n",
    "    - A property decorator (@property) in Python allows a method to be accessed like an attribute (without parentheses ()). It is mainly used for encapsulation, where we want to control how attributes are accessed and modified.\n",
    "\n",
    "### 14. Why is polymorphism important in OOP?\n",
    "    - Polymorphism allows the same interface (method or function) to work differently for different objects.\n",
    "        -Increases flexibility – Code works with multiple types.\n",
    "        -Reduces redundancy – No need for separate methods for different classes.\n",
    "        -Enhances maintainability – Changes in one class don’t affect others.\n",
    "    that's why polymorphism is important in OOP\n",
    "\n",
    "### 15. What is an Abstract Class in Python?\n",
    "    - An abstract class is a class that cannot be instantiated and must be inherited by other classes. It is used to define a blueprint for other classes.\n",
    "\n",
    "### 16.  What are the advantages of OOP?\n",
    "    - The advantages of OOP is as given belows:-\n",
    "        - Encapsulation – Protects data by restricting access.\n",
    "        - Inheritance – Reuse code in child classes.\n",
    "        - Polymorphism – Allows one function to work with different objects.\n",
    "        - Abstraction – Hides unnecessary details and provides a clean interface.\n",
    "        - Code Reusability – Reduces duplication, making code modular.\n",
    "\n",
    "### 17. What is the difference between a class variable and an instance variable?\n",
    "    - Class Variable:- It is shared across all instances. It is declared inside the class but outside methods.\n",
    "    - Instance Variable: - It is unique for each instance. It is declared inside the constructor method (__init__).\n",
    "\n",
    "### 18. What is multiple inheritance in Python?\n",
    "    - Multiple inheritance means a class can inherit from more than one parent class. For e.g, there are three classes (A,B,C) where C class inherits the properties and methods of the Parents Classes ( A & B )\n",
    "\n",
    "### 19. Explain the purpose of ‘’__str__’ and ‘__repr__’ ‘ methods in Python.\n",
    "    - These two '__str__' and '__repr__' are dunder (double underscore) methods control how objects are represented as strings.\n",
    "    - __repr__ is mainly by developers for debugging purposes, while __str__ is for users.\n",
    "\n",
    "### 20. What is the significance of the ‘super()’ function in Python?\n",
    "    - The super() function is used to call methods from the parent class in a child class. It helps in making the code more reusable, avoids redundancy.\n",
    "\n",
    "### 21. What is the significance of the __del__ method in Python?\n",
    "    - The __del__ method is a destructor that is called when an object is deleted or goes out of scope. It is used for cleanup tasks, like closing files or releasing memory.\n",
    "\n",
    "### 22. What is the difference between @staticmethod and @classmethod in Python?\n",
    "    - Static Method is declared using @staticmethod keyword. It can't modify class attributes as well as it can't access instance attributes. It is used when method doesn’t need class or instance data.\n",
    "    - Class Method is declared using @classmethod keyword. It can modify class attributes as well as it can access instance attributes. It is used when method needs to work on class-level attributes\n",
    "\n",
    "### 23. How does polymorphism work in Python with inheritance?\n",
    "    - Polymorphism in inheritance allows overriding methods from the parent class to provide different behavior in the child class.\n",
    "\n",
    "### 24. What is method chaining in Python OOP?\n",
    "    - Method chaining allows calling multiple methods on the same object in a single line. It improves code readability. Each method returns self, so another method can be called.\n",
    "\n",
    "### 25. What is the purpose of the __call__ method in Python?\n",
    "    - The __call__ method allows an object to be called like a function. It turns objects into callable functions. It is useful for function-like behavior in objects."
   ]
  },
  {
   "cell_type": "markdown",
   "metadata": {},
   "source": [
    "# Practical Questions"
   ]
  },
  {
   "cell_type": "code",
   "execution_count": 1,
   "metadata": {},
   "outputs": [
    {
     "name": "stdout",
     "output_type": "stream",
     "text": [
      "Bark!\n"
     ]
    }
   ],
   "source": [
    "# 1. Create a parent class Animal with a method speak() that prints a generic message. Create a child class Dog that overrides the speak() method to print \"Bark!\".\n",
    "class Animal:\n",
    "    def speak(self):\n",
    "        print('print a generic message')\n",
    "    \n",
    "class Dog(Animal):\n",
    "    def speak(self):\n",
    "        print('Bark!')\n",
    "    \n",
    "dog = Dog()\n",
    "dog.speak()"
   ]
  },
  {
   "cell_type": "code",
   "execution_count": 2,
   "metadata": {},
   "outputs": [
    {
     "name": "stdout",
     "output_type": "stream",
     "text": [
      "The Are of Circle is: 12.566370614359172\n",
      "The Are of Rectangle is: 120\n"
     ]
    }
   ],
   "source": [
    "# 2. Write a program to create an abstract class Shape with a method area(). Derive classes Circle and Rectangle from it and implement the area() method in both.\n",
    "\n",
    "from abc import ABC, abstractmethod\n",
    "import math\n",
    "\n",
    "class Shape(ABC):\n",
    "    @abstractmethod\n",
    "    def area(self):\n",
    "        pass\n",
    "\n",
    "class Circle(Shape):\n",
    "    def __init__(self,radius):\n",
    "        self.radius = radius\n",
    "    def area(self):\n",
    "        return math.pi * self.radius * self.radius\n",
    "    \n",
    "class Rectangle(Shape):\n",
    "    def __init__(self,length,width):\n",
    "        self.length = length \n",
    "        self.width = width\n",
    "    def area(self):\n",
    "        return self.length * self.width\n",
    "\n",
    "circle = Circle(2)\n",
    "rect = Rectangle(12,10)\n",
    "print(f\"The Are of Circle is: {circle.area()}\")\n",
    "print(f\"The Are of Rectangle is: {rect.area()}\")"
   ]
  },
  {
   "cell_type": "code",
   "execution_count": 3,
   "metadata": {},
   "outputs": [
    {
     "name": "stdout",
     "output_type": "stream",
     "text": [
      "Car Type is: Electric, Car Brand is: Tesla, Battery: 75 kWh\n"
     ]
    }
   ],
   "source": [
    "# 3. Implement a multi-level inheritance scenario where a class Vehicle has an attribute type. Derive a class Car and further derive a class ElectricCar that adds a battery attribute.\n",
    "\n",
    "class Vechile:\n",
    "    def __init__(self,type):\n",
    "        self.type = type\n",
    "\n",
    "# Derived Class from vechile\n",
    "class Car(Vechile):\n",
    "    def __init__(self,type,brand):\n",
    "        super().__init__(type)\n",
    "        self.brand = brand\n",
    "\n",
    "# Further derived class from Car\n",
    "\n",
    "class ElectricCar(Car):\n",
    "    def __init__(self,type,brand,battery):\n",
    "        super().__init__(type,brand)\n",
    "        self.battery = battery\n",
    "\n",
    "    def details(self):\n",
    "        return f\"Car Type is: {self.type}, Car Brand is: {self.brand}, Battery: {self.battery} kWh\"\n",
    "    \n",
    "# Creating an object of ElectricCar\n",
    "\n",
    "tesla = ElectricCar('Electric',\"Tesla\",75)\n",
    "\n",
    "print(tesla.details())"
   ]
  },
  {
   "cell_type": "code",
   "execution_count": 4,
   "metadata": {},
   "outputs": [
    {
     "name": "stdout",
     "output_type": "stream",
     "text": [
      "Sparrow flies high in the sky.\n",
      "Penguins cannot fly, they swim.\n"
     ]
    }
   ],
   "source": [
    "# 4. Demonstrate polymorphism by creating a base class Bird with a method fly(). Create two derived classes Sparrow and Penguin that override the fly() method.\n",
    "\n",
    "# Base Class\n",
    "\n",
    "class Bird:\n",
    "    def fly(self):\n",
    "        return \"Some bird can fly.\"\n",
    "\n",
    "# Derived Class 1\n",
    "class Sparrow(Bird):\n",
    "    def fly(self):\n",
    "        return \"Sparrow flies high in the sky.\"\n",
    "    \n",
    "# Derived Class 2\n",
    "class Penguin(Bird):\n",
    "    def fly(self):\n",
    "        return(\"Penguins cannot fly, they swim.\")\n",
    "\n",
    "birds = [Sparrow(), Penguin()]\n",
    "\n",
    "for bird in birds:\n",
    "    print(bird.fly())"
   ]
  },
  {
   "cell_type": "code",
   "execution_count": 5,
   "metadata": {},
   "outputs": [
    {
     "name": "stdout",
     "output_type": "stream",
     "text": [
      "The Deposited Amount is 100000\n",
      "150000\n",
      "Available Balance is:  150000 \n",
      "Insufficient Funds Can't Withdraw\n",
      "150000\n"
     ]
    }
   ],
   "source": [
    "# 5. Write a program to demonstrate encapsulation by creating a class BankAccount with private attributes balance and methods to deposit, withdraw, and check balance.\n",
    "class BankAccount:\n",
    "    def __init__(self,balance):\n",
    "        self.__balance = balance\n",
    "    \n",
    "    def deposit(self,amount):\n",
    "        self.__balance += amount\n",
    "        print(f\"The Deposited Amount is {amount}\")\n",
    "        return self.__balance\n",
    "    \n",
    "    def withdraw(self,amount):\n",
    "        if amount > self.__balance:\n",
    "            print(\"Insufficient Funds Can't Withdraw\")\n",
    "        else:\n",
    "            self.__balance -= amount\n",
    "            print(f\"Withdrawn amount is: {amount}\")\n",
    "        return self.__balance\n",
    "\n",
    "    def check_balance(self):\n",
    "        return f\"Available Balance is:  {self.__balance} \"\n",
    "\n",
    "bank1 = BankAccount(50000) # Creating Bank Account with 50000 money\n",
    "print(bank1.deposit(100000)) # Deposit 100000 money\n",
    "print(bank1.check_balance()) # Checking Bank Account \n",
    "print(bank1.withdraw(1000000))"
   ]
  },
  {
   "cell_type": "code",
   "execution_count": 6,
   "metadata": {},
   "outputs": [
    {
     "name": "stdout",
     "output_type": "stream",
     "text": [
      "Guitar Instrument is playing\n",
      "Guitar Instrument is playing\n"
     ]
    }
   ],
   "source": [
    "# 6. Demonstrate runtime polymorphism using a method play() in a base class Instrument. Derive classes Guitar and Piano that implement their own version of play().\n",
    "\n",
    "# Base Class \n",
    "class Instrument:\n",
    "    def play(self):\n",
    "        print(\"Some Instrument is playing\")\n",
    "\n",
    "# Derived Class \n",
    "class Guitar(Instrument):\n",
    "    def play(self):\n",
    "        print(\"Guitar Instrument is playing\")\n",
    "\n",
    "# Derived Class\n",
    "class Piano(Instrument):\n",
    "    def play(self):\n",
    "        print(\"Guitar Instrument is playing\")\n",
    "\n",
    "instruments = [Guitar(), Piano()]\n",
    "\n",
    "for instrument in instruments:\n",
    "    instrument.play()"
   ]
  },
  {
   "cell_type": "code",
   "execution_count": 7,
   "metadata": {},
   "outputs": [
    {
     "name": "stdout",
     "output_type": "stream",
     "text": [
      "Addition: 15\n",
      "Subtraction: 5\n"
     ]
    }
   ],
   "source": [
    "# 7. Create a class MathOperations with a class method add_numbers() to add two numbers and a static method subtract_numbers() to subtract two numbers.\n",
    "\n",
    "class MathOperations:\n",
    "    \n",
    "    # class Method\n",
    "    @classmethod\n",
    "    def add_numbers(cls,a,b):\n",
    "        return a + b\n",
    "    \n",
    "    # static Method\n",
    "    @staticmethod\n",
    "    def subtract_numbers(a,b):\n",
    "        return a - b\n",
    "    \n",
    "# Using the class method\n",
    "print(\"Addition:\", MathOperations.add_numbers(10, 5))\n",
    "\n",
    "# Using the static method\n",
    "print(\"Subtraction:\", MathOperations.subtract_numbers(10, 5))"
   ]
  },
  {
   "cell_type": "code",
   "execution_count": 8,
   "metadata": {},
   "outputs": [
    {
     "name": "stdout",
     "output_type": "stream",
     "text": [
      "Total Persons Created: 3\n"
     ]
    }
   ],
   "source": [
    "# 8. Implement a class Person with a class method to count the total number of persons created.\n",
    "\n",
    "class Person:\n",
    "    count = 0\n",
    "    def __init__(self,name):\n",
    "        self.name = name\n",
    "        Person.count+=1\n",
    "    \n",
    "    # class method\n",
    "    @classmethod\n",
    "    def total_persons(cls):\n",
    "        return f\"Total Persons Created: {cls.count}\"\n",
    "\n",
    "# Creting instances\n",
    "p1 = Person(\"Shubham Sharma\")\n",
    "p2 = Person(\"Shankar\")\n",
    "p3 = Person(\"Distroyer\")\n",
    "\n",
    "print(Person.total_persons())"
   ]
  },
  {
   "cell_type": "code",
   "execution_count": 9,
   "metadata": {},
   "outputs": [
    {
     "name": "stdout",
     "output_type": "stream",
     "text": [
      "3/4\n",
      "5/8\n"
     ]
    }
   ],
   "source": [
    "# 9. Write a class Fraction with attributes numerator and denominator. Override the str method to display the fraction as \"numerator/denominator\".\n",
    "\n",
    "class Fraction:\n",
    "    def __init__(self,numerator,denominator):\n",
    "        self.numerator = numerator\n",
    "        self.denominator = denominator\n",
    "\n",
    "    def __str__(self):\n",
    "        return f\"{self.numerator}/{self.denominator}\"\n",
    "\n",
    "f1 = Fraction(3,4)\n",
    "f2 = Fraction(5,8)\n",
    "\n",
    "# Displaying fractions\n",
    "print(f1)  # Output: 3/4\n",
    "print(f2)  # Output: 5/8"
   ]
  },
  {
   "cell_type": "code",
   "execution_count": 10,
   "metadata": {},
   "outputs": [
    {
     "name": "stdout",
     "output_type": "stream",
     "text": [
      "(6,8)\n"
     ]
    }
   ],
   "source": [
    "# 10. Demonstrate operator overloading by creating a class Vector and overriding the add method to add two vectors.\n",
    "\n",
    "class Vector:\n",
    "    def __init__(self,x,y):\n",
    "        self.x = x\n",
    "        self.y = y\n",
    "    def __add__(self,other):\n",
    "        return Vector(self.x + other.x, self.y + other.y)\n",
    "    \n",
    "    def __str__(self):\n",
    "        return f\"({self.x},{self.y})\"\n",
    "\n",
    "# Creating Vector\n",
    "v1 = Vector(2,3)\n",
    "v2 = Vector(4,5)\n",
    "\n",
    "# Adding vectors using +\n",
    "\n",
    "v3 = v1 + v2\n",
    "\n",
    "# Displaying results\n",
    "print(v3)"
   ]
  },
  {
   "cell_type": "code",
   "execution_count": 11,
   "metadata": {},
   "outputs": [
    {
     "name": "stdout",
     "output_type": "stream",
     "text": [
      "Hello, my name is Shubham Sharma and I am 19 years old\n"
     ]
    }
   ],
   "source": [
    "# 11. Create a class Person with attributes name and age. Add a method greet() that prints \"Hello, my name is {name} and I am {age} years old\n",
    "\n",
    "class Person:\n",
    "    def __init__(self,name,age):\n",
    "        self.name = name\n",
    "        self.age = age\n",
    "    def greet(self):\n",
    "        print(f\"Hello, my name is {self.name} and I am {self.age} years old\")\n",
    "\n",
    "person = Person(\"Shubham Sharma\", 19)\n",
    "person.greet()"
   ]
  },
  {
   "cell_type": "code",
   "execution_count": 12,
   "metadata": {},
   "outputs": [
    {
     "name": "stdout",
     "output_type": "stream",
     "text": [
      "Shubham Sharma's Average Grade: 92.00\n",
      "Shubham's Average Grade: 92.80\n"
     ]
    }
   ],
   "source": [
    "# 12. Implement a class Student with attributes name and grades. Create a method average_grade() to compute the average of the grades.\n",
    "class Student:\n",
    "    def __init__(self,name,grades):\n",
    "        self.name = name\n",
    "        self.grades = grades\n",
    "    def average_grade(self):\n",
    "        return sum(self.grades) / len(self.grades) if self.grades else 0\n",
    "    \n",
    "student = Student(\"Shubham Sharma\",[87,98,97,93,85])\n",
    "student1 = Student(\"Shubham\",[98,96,87,94,89])\n",
    "\n",
    "print(f\"{student.name}'s Average Grade: {student.average_grade():.2f}\") \n",
    "print(f\"{student1.name}'s Average Grade: {student1.average_grade():.2f}\")  "
   ]
  },
  {
   "cell_type": "code",
   "execution_count": 13,
   "metadata": {},
   "outputs": [
    {
     "data": {
      "text/plain": [
       "200"
      ]
     },
     "execution_count": 13,
     "metadata": {},
     "output_type": "execute_result"
    }
   ],
   "source": [
    "# 13. Create a class Rectangle with methods set_dimensions() to set the dimensions and area() to calculate the area.\n",
    "\n",
    "class Rectangle:\n",
    "    def __init__(self,length=1,width=1):\n",
    "        self.length = length\n",
    "        self.width = width\n",
    "    def set_dimensions(self,length,width):\n",
    "        self.length = length\n",
    "        self.width = width\n",
    "    def area(self):\n",
    "        return self.length * self.width\n",
    "    \n",
    "rect = Rectangle()\n",
    "\n",
    "rect.set_dimensions(10,20)\n",
    "\n",
    "rect.area()"
   ]
  },
  {
   "cell_type": "code",
   "execution_count": 14,
   "metadata": {},
   "outputs": [
    {
     "name": "stdout",
     "output_type": "stream",
     "text": [
      "Shubham's Salary: 20000Rs\n",
      "Shubham Sharma's Salary: 50000Rs\n"
     ]
    }
   ],
   "source": [
    "# 14. Create a class Employee with a method calculate_salary() that computes the salary based on hours worked and hourly rate. Create a derived class Manager that adds a bonus to the salary.\n",
    "\n",
    "class Employee:\n",
    "    def __init__(self, name, hours_worked, hourly_rate):\n",
    "        self.name = name\n",
    "        self.hours_worked = hours_worked\n",
    "        self.hourly_rate = hourly_rate\n",
    "    \n",
    "    def calculate_salary(self):\n",
    "        return self.hours_worked * self.hourly_rate\n",
    "    \n",
    "# Derived class\n",
    "\n",
    "class Manager(Employee):\n",
    "    def __init__(self, name, hours_worked, hourly_rate, bonus):\n",
    "        super().__init__(name,hours_worked,hourly_rate)\n",
    "        self.bonus = bonus\n",
    "\n",
    "    def calculate_salary(self):\n",
    "        return super().calculate_salary() + self.bonus\n",
    "    \n",
    "# Creating Objects\n",
    "emp = Employee(\"Shubham\",40,500)\n",
    "mngr = Manager(\"Shubham Sharma\",40,1000,10000)\n",
    "\n",
    "print(f\"{emp.name}'s Salary: {emp.calculate_salary()}Rs\") \n",
    "print(f\"{mngr.name}'s Salary: {mngr.calculate_salary()}Rs\")"
   ]
  },
  {
   "cell_type": "code",
   "execution_count": 15,
   "metadata": {},
   "outputs": [
    {
     "data": {
      "text/plain": [
       "'The total price of product is: 3000 and the product is Watch'"
      ]
     },
     "execution_count": 15,
     "metadata": {},
     "output_type": "execute_result"
    }
   ],
   "source": [
    "# 15. Create a class Product with attributes name, price, and quantity. Implement a method total_price() that calculates the total price of the product.\n",
    "\n",
    "class Product:\n",
    "    def __init__(self,name,price,quantity):\n",
    "        self.name = name\n",
    "        self.price = price\n",
    "        self.quantity = quantity\n",
    "    def total_price(self):\n",
    "        return f\"The total price of product is: {self.price * self.quantity} and the product is {self.name}\"\n",
    "\n",
    "product = Product('Watch',1000,3)\n",
    "product.total_price()"
   ]
  },
  {
   "cell_type": "code",
   "execution_count": 16,
   "metadata": {},
   "outputs": [
    {
     "name": "stdout",
     "output_type": "stream",
     "text": [
      "cow says: Moo Moo\n",
      "sheep says: Baa Baa\n"
     ]
    }
   ],
   "source": [
    "# 16. Create a class Animal with an abstract method sound(). Create two derived classes Cow and Sheep that implement the sound() method.\n",
    "\n",
    "from abc import ABC, abstractmethod\n",
    "\n",
    "class Animal(ABC):\n",
    "\n",
    "    @abstractmethod\n",
    "    def sound(self):\n",
    "        pass\n",
    "\n",
    "# Derived Class cow\n",
    "class Cow(Animal):\n",
    "    def sound(self):\n",
    "        return \"Moo Moo\"\n",
    "\n",
    "class Sheep(Animal):\n",
    "    def sound(self):\n",
    "        return \"Baa Baa\"\n",
    "    \n",
    "# Creating Objects\n",
    "\n",
    "cow = Cow()\n",
    "sheep = Sheep()\n",
    "\n",
    "print(f\"cow says: {cow.sound()}\")\n",
    "print(f\"sheep says: {sheep.sound()}\")"
   ]
  },
  {
   "cell_type": "code",
   "execution_count": 17,
   "metadata": {},
   "outputs": [
    {
     "name": "stdout",
     "output_type": "stream",
     "text": [
      "'Book title is: 1984' by George Orwel in year 1949\n",
      "'Book title is: Harry Potter and the Philosopher's Stone' by J.K. Rowling in year 1997\n"
     ]
    }
   ],
   "source": [
    "# 17. Create a class Book with attributes title, author, and year_published. Add a method get_book_info() that returns a formatted string with the book's details\n",
    "class Book:\n",
    "    def __init__(self,title,author,year_published):\n",
    "        self.title = title\n",
    "        self.author = author\n",
    "        self.year_published = year_published\n",
    "    \n",
    "    def get_book_info(self):\n",
    "        return f\"'Book title is: {self.title}' by {self.author} in year {self.year_published}\"\n",
    "book = Book('1984','George Orwel',1949)\n",
    "book1 = Book(\"Harry Potter and the Philosopher's Stone\", 'J.K. Rowling',1997)\n",
    "\n",
    "print(book.get_book_info())\n",
    "print(book1.get_book_info())"
   ]
  },
  {
   "cell_type": "code",
   "execution_count": 18,
   "metadata": {},
   "outputs": [
    {
     "name": "stdout",
     "output_type": "stream",
     "text": [
      "Address: Bilaspur,(H.P), Price: $25000\n",
      "Address: Hamirpur, (H.P), Price: $34000, Rooms: 10\n"
     ]
    }
   ],
   "source": [
    "# 18. Create a class House with attributes address and price. Create a derived class Mansion that adds an attribute number_of_rooms.\n",
    "class House:\n",
    "    def __init__(self,address,price):\n",
    "        self.address = address\n",
    "        self.price = price\n",
    "    def get_details(self):\n",
    "        return f\"Address: {self.address}, Price: ${self.price}\"\n",
    "\n",
    "# derived class \n",
    "class Mansion(House):\n",
    "    def __init__(self,address,price,number_of_rooms):\n",
    "        super().__init__(address,price)\n",
    "        self.number_of_rooms = number_of_rooms\n",
    "    def get_details(self):\n",
    "        return f\"Address: {self.address}, Price: ${self.price}, Rooms: {self.number_of_rooms}\"\n",
    "\n",
    "house = House('Bilaspur,(H.P)',25000)\n",
    "mansion = Mansion('Hamirpur, (H.P)',34000,10)\n",
    "\n",
    "print(house.get_details())\n",
    "print(mansion.get_details())"
   ]
  },
  {
   "cell_type": "code",
   "execution_count": null,
   "metadata": {},
   "outputs": [],
   "source": []
  }
 ],
 "metadata": {
  "kernelspec": {
   "display_name": "base",
   "language": "python",
   "name": "python3"
  },
  "language_info": {
   "codemirror_mode": {
    "name": "ipython",
    "version": 3
   },
   "file_extension": ".py",
   "mimetype": "text/x-python",
   "name": "python",
   "nbconvert_exporter": "python",
   "pygments_lexer": "ipython3",
   "version": "3.12.7"
  }
 },
 "nbformat": 4,
 "nbformat_minor": 2
}
